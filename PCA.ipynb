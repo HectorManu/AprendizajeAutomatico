{
 "cells": [
  {
   "cell_type": "markdown",
   "id": "e634c0d2",
   "metadata": {},
   "source": [
    "# Importación de librerias \n",
    "Este código es un ejemplo de un script en Python que utiliza varias bibliotecas y herramientas para realizar análisis de datos y reducción de dimensionalidad mediante PCA (Análisis de Componentes Principales). A continuación, te explicaré cada parte del código:\n",
    "\n",
    "1. Importación de bibliotecas:\n",
    "   - `import pandas as pd`: Importa la biblioteca `pandas` y la asigna a la abreviatura `pd`. Pandas es una biblioteca muy utilizada para la manipulación y análisis de datos en Python.\n",
    "   - `import numpy as np`: Importa la biblioteca `numpy` y la asigna a la abreviatura `np`. Numpy proporciona soporte para operaciones matriciales y numéricas eficientes en Python.\n",
    "   - `import matplotlib.pyplot as plt`: Importa la biblioteca `matplotlib.pyplot` y la asigna a la abreviatura `plt`. Matplotlib es una biblioteca para crear gráficos y visualizaciones en Python.\n",
    "   - `%matplotlib inline`: Esta línea es un comando especial de Jupyter Notebook o IPython que permite que las gráficas generadas con Matplotlib se muestren directamente en el notebook en lugar de abrirse en una ventana emergente.\n",
    "   - `plt.rcParams['figure.figsize'] = (16, 9)`: Establece el tamaño predeterminado de las figuras generadas por Matplotlib en 16 pulgadas de ancho y 9 pulgadas de alto.\n",
    "   - `plt.style.use('ggplot')`: Configura el estilo de los gráficos en \"ggplot\". Puedes cambiar esto a otros estilos de Matplotlib según tus preferencias.\n",
    "\n",
    "2. Importación de módulos específicos de scikit-learn:\n",
    "   - `from sklearn.decomposition import PCA`: Importa la clase `PCA` del módulo `sklearn.decomposition`. Esta clase se utilizará para realizar el análisis de componentes principales.\n",
    "   - `from sklearn.preprocessing import StandardScaler`: Importa la clase `StandardScaler` del módulo `sklearn.preprocessing`. Esta clase se utilizará para estandarizar los datos antes de aplicar PCA, lo que significa que se escalan para tener una media de 0 y una desviación estándar de 1 en cada característica.\n",
    "\n",
    "En resumen, este código importa las bibliotecas necesarias y configura algunas opciones para realizar análisis de datos y PCA en particular. Es un paso típico en la preparación de un entorno de trabajo antes de realizar análisis de datos y reducción de dimensionalidad con scikit-learn."
   ]
  },
  {
   "cell_type": "code",
   "execution_count": 100,
   "id": "322b0006",
   "metadata": {},
   "outputs": [],
   "source": [
    "#importamos librerías\n",
    "import pandas as pd\n",
    "import numpy as np\n",
    "import matplotlib.pyplot as plt\n",
    "import seaborn as sb\n",
    "%matplotlib inline\n",
    "plt.rcParams['figure.figsize'] = (16, 9)\n",
    "plt.style.use('ggplot')\n",
    "from sklearn.decomposition import PCA\n",
    "from sklearn.preprocessing import StandardScaler"
   ]
  },
  {
   "cell_type": "markdown",
   "id": "d1418c05",
   "metadata": {},
   "source": [
    "# Carga de datos"
   ]
  },
  {
   "cell_type": "markdown",
   "id": "8548841d",
   "metadata": {},
   "source": [
    "Este código carga datos desde un archivo CSV en un objeto de DataFrame utilizando la biblioteca `pandas`. A continuación, te explico cada parte del código:\n",
    "\n",
    "1. `dataframe = pd.read_csv(r\"comprar_alquilar.csv\")`: Esta línea carga los datos del archivo CSV llamado \"comprar_alquilar.csv\" en un objeto de DataFrame y lo asigna a la variable `dataframe`. Aquí está lo que sucede en detalle:\n",
    "   - `pd.read_csv(...)`: Utiliza la función `read_csv` de la biblioteca `pandas` para leer un archivo CSV y crear un DataFrame a partir de él.\n",
    "   - `\"comprar_alquilar.csv\"`: Es la ruta del archivo CSV que se va a cargar. En este caso, se asume que el archivo \"comprar_alquilar.csv\" se encuentra en el directorio de trabajo actual.\n",
    "   - `r` antes de la cadena de la ruta (`r\"comprar_alquilar.csv\"`) indica que la cadena se debe interpretar como una cadena cruda, lo que significa que los caracteres de escape (como `\\n` o `\\t`) no se procesarán. Esto es útil cuando se trabaja con rutas de archivos en sistemas Windows.\n",
    "\n",
    "2. `print(dataframe.tail(10))`: Después de cargar los datos en el DataFrame `dataframe`, esta línea imprime las últimas 10 filas del DataFrame en la consola. Aquí está lo que sucede:\n",
    "   - `dataframe.tail(10)`: Utiliza el método `tail(10)` del DataFrame `dataframe` para seleccionar las últimas 10 filas del DataFrame. El método `tail()` muestra las últimas filas por defecto, pero puedes especificar un número diferente dentro de los paréntesis para ver más o menos filas.\n",
    "   - `print(...)`: Imprime las filas seleccionadas en la consola.\n",
    "\n",
    "En resumen, este código carga un archivo CSV llamado \"comprar_alquilar.csv\" en un DataFrame de pandas y luego muestra las últimas 10 filas de ese DataFrame en la consola. Esto es útil para verificar rápidamente los datos cargados y comprender su estructura antes de realizar análisis adicionales."
   ]
  },
  {
   "cell_type": "code",
   "execution_count": 101,
   "id": "e616c508",
   "metadata": {},
   "outputs": [
    {
     "name": "stdout",
     "output_type": "stream",
     "text": [
      "     ingresos  gastos_comunes  pago_coche  gastos_otros  ahorros  vivienda  \\\n",
      "197      3831             690         352           488    10723    363120   \n",
      "198      3961            1030         270           475    21880    280421   \n",
      "199      3184             955         276           684    35565    388025   \n",
      "200      3334             867         369           652    19985    376892   \n",
      "201      3988            1157         105           382    11980    257580   \n",
      "\n",
      "     estado_civil  hijos  trabajo  comprar  \n",
      "197             0      0        2        0  \n",
      "198             2      3        8        0  \n",
      "199             1      3        8        0  \n",
      "200             1      2        5        0  \n",
      "201             0      0        4        0  \n",
      "Hola/niño\n",
      "Hola/niño\n"
     ]
    }
   ],
   "source": [
    "#cargamos los datos de entrada\n",
    "dataframe = pd.read_csv(r\"comprar_alquilar.csv\")\n",
    "print(dataframe.tail())\n",
    "\n",
    "print(\"Hola/niño\")\n",
    "print(r\"Hola/niño\")"
   ]
  },
  {
   "cell_type": "code",
   "execution_count": 102,
   "id": "6db1cf54",
   "metadata": {},
   "outputs": [
    {
     "name": "stdout",
     "output_type": "stream",
     "text": [
      "Hola\n",
      "iño\n",
      "Hola\\niño\n"
     ]
    }
   ],
   "source": [
    "print(\"Hola\\niño\")\n",
    "print(r\"Hola\\niño\")"
   ]
  },
  {
   "cell_type": "markdown",
   "id": "e2b7e6b1",
   "metadata": {},
   "source": [
    "# Normalización de datos"
   ]
  },
  {
   "cell_type": "markdown",
   "id": "c4740554",
   "metadata": {},
   "source": [
    "Este código realiza la normalización de los datos utilizando la clase `StandardScaler` de scikit-learn. La normalización es un paso común en el preprocesamiento de datos antes de aplicar algoritmos de aprendizaje automático, ya que ayuda a que las características tengan una escala comparable, lo que puede mejorar el rendimiento de muchos algoritmos.\n",
    "\n",
    "A continuación, se explica cada parte del código:\n",
    "\n",
    "1. `scaler = StandardScaler()`: Se crea una instancia de la clase `StandardScaler` y se asigna a la variable `scaler`. Esta instancia se utilizará para realizar la normalización de los datos.\n",
    "\n",
    "2. `df = dataframe.drop(['comprar'], axis=1)`: Se crea un nuevo DataFrame llamado `df` a partir del DataFrame original `dataframe`. En este nuevo DataFrame, se eliminó la columna llamada \"comprar\". La columna \"comprar\" se asume como la variable dependiente o de destino, y se elimina de `df` para que solo contenga las características o variables independientes.\n",
    "\n",
    "3. `scaler.fit(df)`: Se utiliza el método `fit` del objeto `scaler` para calcular la media y la desviación estándar de cada columna en `df`. Esto se hace para que la normalización se base en la media y la desviación estándar de los datos.\n",
    "\n",
    "4. `X_scaled = scaler.transform(df)`: Se utiliza el método `transform` del objeto `scaler` para aplicar la normalización a las características en `df`. El resultado normalizado se almacena en un nuevo array llamado `X_scaled`. Después de esta operación, `X_scaled` contendrá las características normalizadas que pueden ser utilizadas en análisis posteriores o en modelos de aprendizaje automático.\n",
    "\n",
    "En resumen, este código elimina la variable dependiente de un DataFrame, calcula la media y la desviación estándar de las características restantes y luego normaliza esas características utilizando `StandardScaler`. El resultado es un nuevo conjunto de datos normalizado, listo para ser utilizado en análisis o modelos de machine learning."
   ]
  },
  {
   "cell_type": "code",
   "execution_count": 103,
   "id": "e9e576aa",
   "metadata": {},
   "outputs": [
    {
     "name": "stdout",
     "output_type": "stream",
     "text": [
      "[4.95899505e+03 9.71584158e+02 2.11742574e+02 5.15425743e+02\n",
      " 3.87496683e+04 3.73349639e+05 1.02475248e+00 1.23267327e+00\n",
      " 4.49009901e+00]\n",
      "[1.67869189e+03 2.71431984e+02 1.24631111e+02 1.67686462e+02\n",
      " 1.73221953e+04 1.36033554e+05 8.35109045e-01 1.36444301e+00\n",
      " 2.52950921e+00]\n",
      "[[ 0.62012866  0.10468863 -1.69895439 ... -1.22708822  0.5623736\n",
      "  -0.98441983]\n",
      " [ 1.0639266  -0.10162457 -0.71204191 ... -0.02963981  1.29527339\n",
      "   0.59691461]\n",
      " [ 0.89117304  0.22626604 -0.91263388 ...  1.1678086  -0.17052619\n",
      "   1.38758182]\n",
      " ...\n",
      " [-1.05736798 -0.06109876  0.51558094 ... -0.02963981  1.29527339\n",
      "   1.38758182]\n",
      " [-0.96801269 -0.38530521  1.26178306 ... -0.02963981  0.5623736\n",
      "   0.201581  ]\n",
      " [-0.57842363  0.68310241 -0.85646812 ... -1.22708822 -0.90342598\n",
      "  -0.19375261]]\n"
     ]
    }
   ],
   "source": [
    "#normalizamos los datos\n",
    "scaler=StandardScaler()\n",
    "df = dataframe.drop(['comprar'], axis=1) # quito la variable dependiente \"Y\"\n",
    "scaler.fit(df) # calculo la media para poder hacer la transformacion\n",
    "print(scaler.mean_)\n",
    "print(scaler.scale_)\n",
    "X_scaled=scaler.transform(df)# Ahora si, escalo los datos y los normalizo\n",
    "print(X_scaled)"
   ]
  },
  {
   "cell_type": "markdown",
   "id": "186a467d",
   "metadata": {},
   "source": [
    "# Aplicando PCA"
   ]
  },
  {
   "cell_type": "markdown",
   "id": "344bb27b",
   "metadata": {},
   "source": [
    "Este código utiliza la técnica de Análisis de Componentes Principales (PCA) para reducir la dimensionalidad de un conjunto de datos previamente normalizado. PCA es una técnica que busca reducir la cantidad de características (dimensiones) en un conjunto de datos, manteniendo la mayor cantidad posible de información. Aquí está la explicación del código paso a paso:\n",
    "\n",
    "1. `pca = PCA(n_components=9)`: Se crea una instancia del objeto `PCA` (Análisis de Componentes Principales) con la opción `n_components=9`. Esto significa que PCA buscará reducir la dimensionalidad del conjunto de datos original a 9 dimensiones principales. También se puede especificar otro número o utilizar un valor decimal (como 0.85) para indicar la cantidad mínima de varianza explicada que se desea retener.\n",
    "\n",
    "2. `pca.fit(X_scaled)`: Se utiliza el método `fit` del objeto `PCA` para calcular los componentes principales basados en los datos normalizados `X_scaled`. Estos componentes principales son combinaciones lineales de las características originales que explican la mayor cantidad de varianza en los datos.\n",
    "\n",
    "3. `X_pca = pca.transform(X_scaled)`: Se utiliza el método `transform` del objeto `PCA` para transformar los datos originales normalizados `X_scaled` en un nuevo conjunto de datos `X_pca` que consiste en las dimensiones principales obtenidas a través de PCA. En otras palabras, `X_pca` contiene los datos proyectados en el espacio de las dimensiones principales.\n",
    "\n",
    "4. `print(\"shape of X_pca\", X_pca.shape)`: Muestra en la consola la forma (número de filas y columnas) del nuevo conjunto de datos `X_pca`. Esto te dará una idea de cuántas dimensiones se han reducido.\n",
    "\n",
    "5. `expl = pca.explained_variance_ratio_`: Calcula las razones de la varianza explicada para cada una de las dimensiones principales obtenidas. Estas razones representan la proporción de varianza en los datos originales que se conserva en cada dimensión principal.\n",
    "\n",
    "6. `print(expl)`: Imprime las razones de la varianza explicada en la consola. Esto te permite ver cuánta varianza se explica en cada dimensión principal.\n",
    "\n",
    "7. `print('suma:',sum(expl[0:5]))`: Imprime la suma de las razones de la varianza explicada para las primeras 5 dimensiones principales. Esto te da una idea de cuánta varianza total se conserva al retener solo las 5 dimensiones principales. En este caso, se está verificando si se retiene al menos el 85% de la varianza original.\n",
    "\n",
    "En resumen, este código utiliza PCA para reducir la dimensionalidad de los datos normalizados y calcular las dimensiones principales que conservan la información más importante. Luego, muestra la información sobre la cantidad de dimensiones retenidas y la varianza explicada por cada una de ellas. El objetivo es determinar cuántas dimensiones principales se deben retener para conservar una cantidad significativa de información en los datos."
   ]
  },
  {
   "cell_type": "code",
   "execution_count": 104,
   "id": "526520d1",
   "metadata": {},
   "outputs": [
    {
     "name": "stdout",
     "output_type": "stream",
     "text": [
      "[23.32012997 20.57915696 14.5914482  13.93788379 13.23515641 10.11686549\n",
      "  8.68139549  7.40702015  5.97862564]\n",
      "[[-4.93720326e-01 -3.18228652e-01  1.23770585e-01  1.11875722e-01\n",
      "  -4.44650306e-01 -4.62608605e-01  2.52278902e-01  2.59858682e-01\n",
      "   2.90247540e-01]\n",
      " [ 3.06958523e-01  1.47372634e-01 -9.16409584e-02  1.11593405e-04\n",
      "   2.88434882e-01  1.48984886e-01  4.69043960e-01  5.21893872e-01\n",
      "   5.27155638e-01]\n",
      " [ 9.14192492e-02  3.63453156e-01  5.16144106e-01 -7.01985912e-01\n",
      "  -1.91767355e-01 -1.40513292e-01  1.72884784e-01 -1.12183561e-01\n",
      "   3.69101842e-02]\n",
      " [ 1.11222044e-01  8.16296251e-02  7.80267686e-01  5.90704378e-01\n",
      "   2.28391302e-02  1.50085403e-01 -7.66309571e-03  7.40404830e-03\n",
      "  -7.49271067e-03]\n",
      " [ 8.88965452e-02  7.63005855e-01 -2.65553621e-01  3.30743735e-01\n",
      "  -2.89002223e-01 -3.65555555e-01 -1.04638865e-01  4.36678973e-02\n",
      "   8.65473020e-06]\n",
      " [-7.54772584e-02  6.79027972e-02 -1.53696523e-01  1.54422329e-01\n",
      "  -2.30180519e-01  2.90798556e-01  7.67069963e-01 -3.87963615e-01\n",
      "  -2.56445999e-01]\n",
      " [ 1.54318903e-01 -1.05597504e-01  2.73330932e-02  1.01876185e-01\n",
      "   5.24583921e-01 -6.41033631e-01  2.12365274e-01 -4.60066684e-01\n",
      "   1.05053409e-01]\n",
      " [ 1.27315337e-02 -1.02744705e-02  6.17585617e-02 -3.79772484e-02\n",
      "   2.12758945e-01 -2.60846538e-01  2.04816499e-01  5.32216258e-01\n",
      "  -7.45630420e-01]\n",
      " [ 7.76989739e-01 -3.74439739e-01 -4.85573127e-02  2.66312737e-02\n",
      "  -4.74167761e-01 -1.56100840e-01 -3.28928950e-03  1.10512225e-02\n",
      "  -6.06572632e-02]]\n",
      "shape of X_pca (202, 9)\n",
      "[0.29913557 0.23294923 0.11711241 0.10685622 0.09635279 0.05629866\n",
      " 0.04145579 0.03017819 0.01966115]\n",
      "suma: 0.908704873663735\n"
     ]
    }
   ],
   "source": [
    "#Instanciamos objeto PCA y aplicamos\n",
    "pca=PCA(n_components=9) # Otra opción es instanciar pca sólo con dimensiones nuevas hasta obtener un mínimo \"explicado\" ej.: pca=PCA(.85)\n",
    "pca.fit(X_scaled) # obtener los componentes principales\n",
    "X_pca=pca.transform(X_scaled) # convertimos nuestros datos con las nuevas dimensiones de PCA\n",
    " \n",
    "print(pca.singular_values_) # valores singulares \n",
    "print(pca.components_)# \n",
    "\n",
    "print(\"shape of X_pca\", X_pca.shape)\n",
    "expl = pca.explained_variance_ratio_\n",
    "print(expl)\n",
    "print('suma:',sum(expl[0:6]))\n",
    "#Vemos que con 5 componentes tenemos algo mas del 85% de varianza explicada\n",
    " \n"
   ]
  },
  {
   "cell_type": "code",
   "execution_count": 105,
   "id": "c488827c",
   "metadata": {},
   "outputs": [
    {
     "name": "stdout",
     "output_type": "stream",
     "text": [
      "(202, 5)\n"
     ]
    }
   ],
   "source": [
    "print(X_pca[:,0:5].shape)"
   ]
  },
  {
   "cell_type": "markdown",
   "id": "bf10b3c9",
   "metadata": {},
   "source": [
    "# Gráfica de varianza"
   ]
  },
  {
   "cell_type": "markdown",
   "id": "e90a61ed",
   "metadata": {},
   "source": [
    "Este código genera un gráfico que muestra cómo la varianza explicada acumulativa cambia a medida que se aumenta el número de componentes principales utilizados en PCA. Aquí tienes una explicación detallada del código:\n",
    "\n",
    "1. `plt.plot(np.cumsum(pca.explained_variance_ratio_))`: Esta línea utiliza la biblioteca `matplotlib` para crear un gráfico de líneas. En el eje x, representa el número de componentes principales (dimensiones) y en el eje y, representa la varianza explicada acumulativa.\n",
    "\n",
    "   - `np.cumsum(pca.explained_variance_ratio_)`: `np.cumsum()` es una función de NumPy que calcula la suma acumulativa de los elementos en un arreglo. En este caso, se aplica a `pca.explained_variance_ratio_`, que contiene las razones de la varianza explicada por cada componente principal. Esto crea una serie de valores acumulativos que representan cuánta varianza se explica al considerar un número creciente de componentes principales.\n",
    "\n",
    "2. `plt.xlabel('number of components')`: Establece una etiqueta para el eje x del gráfico, que representa el número de componentes principales.\n",
    "\n",
    "3. `plt.ylabel('cumulative explained variance')`: Establece una etiqueta para el eje y del gráfico, que representa la varianza explicada acumulativa.\n",
    "\n",
    "4. `plt.show()`: Muestra el gráfico en una ventana o en el entorno donde se está ejecutando el código. Este comando es necesario para visualizar el gráfico en la pantalla.\n",
    "\n",
    "En resumen, este código crea un gráfico que te permite visualizar cómo la cantidad acumulativa de varianza explicada cambia a medida que se consideran más componentes principales en el análisis de PCA. La gráfica puede ser útil para determinar cuántos componentes principales son necesarios para retener una cantidad suficiente de información en tus datos, ya que muestra cómo la varianza explicada se acumula a medida que aumentas el número de dimensiones principales consideradas."
   ]
  },
  {
   "cell_type": "code",
   "execution_count": 106,
   "id": "4f904510",
   "metadata": {},
   "outputs": [
    {
     "data": {
      "image/png": "[encoded data removed]",
      "text/plain": [
       "<Figure size 1600x900 with 1 Axes>"
      ]
     },
     "metadata": {},
     "output_type": "display_data"
    }
   ],
   "source": [
    "#graficamos el acumulado de varianza explicada en las nuevas dimensiones\n",
    "plt.plot(np.cumsum(pca.explained_variance_ratio_))\n",
    "plt.xlabel('number of components')\n",
    "plt.ylabel('cumulative explained variance')\n",
    "plt.show()"
   ]
  },
  {
   "cell_type": "markdown",
   "id": "b77a24f1",
   "metadata": {},
   "source": [
    "# Gráfico de dispersión bidimiensional"
   ]
  },
  {
   "cell_type": "markdown",
   "id": "4d72d720",
   "metadata": {},
   "source": [
    "Este código crea un gráfico de dispersión bidimensional utilizando los dos primeros componentes principales obtenidos mediante PCA para visualizar cómo los datos se distribuyen en función de estas dos dimensiones principales. A continuación, se explica en detalle cada parte del código:\n",
    "\n",
    "1. `Xax = X_pca[:, 0]` y `Yax = X_pca[:, 1]`: Estas líneas extraen las dos primeras dimensiones principales del conjunto de datos transformado `X_pca` y las almacenan en las variables `Xax` y `Yax`, respectivamente. Estas serán las coordenadas en el gráfico para el primer y segundo componente principal.\n",
    "\n",
    "2. `labels = dataframe['comprar'].values`: Se crea un arreglo llamado `labels` que contiene los valores de la columna \"comprar\" del DataFrame `dataframe`. Esto representa la variable objetivo, donde 0 podría corresponder a \"Alquilar\" y 1 a \"Comprar\".\n",
    "\n",
    "3. `cdict`, `labl`, `marker`, y `alpha`: Estos diccionarios definen diferentes atributos visuales para los puntos en el gráfico en función de las etiquetas de clase. \n",
    "   - `cdict`: Asocia colores a las etiquetas. Por ejemplo, el valor 0 se asocia con \"rojo\" y el valor 1 con \"verde\".\n",
    "   - `labl`: Asocia etiquetas legibles a las etiquetas de clase. Por ejemplo, 0 se asocia con \"Alquilar\" y 1 con \"Comprar\".\n",
    "   - `marker`: Asocia diferentes tipos de marcadores a las etiquetas de clase. Por ejemplo, 0 se asocia con \"*\" y 1 con \"o\".\n",
    "   - `alpha`: Asocia niveles de transparencia a las etiquetas de clase. Esto puede hacer que algunos puntos sean más transparentes que otros para mejorar la visualización de superposiciones.\n",
    "\n",
    "4. `fig, ax = plt.subplots(figsize=(7, 5))`: Se crea una figura y un eje para el gráfico con una figura de tamaño específico.\n",
    "\n",
    "5. `fig.patch.set_facecolor('white')`: Establece el fondo de la figura en blanco.\n",
    "\n",
    "6. El siguiente bucle `for` itera a través de las etiquetas únicas en el arreglo `labels`. Para cada etiqueta única:\n",
    "   - `ix = np.where(labels == l)`: Encuentra los índices donde la etiqueta es igual a la etiqueta actual `l`.\n",
    "   - `ax.scatter(...)`: Realiza un gráfico de dispersión (scatter plot) en el eje `ax` para los puntos correspondientes a esa etiqueta. Utiliza el color, el marcador y la transparencia especificados en los diccionarios `cdict`, `marker` y `alpha`, respectivamente. Las coordenadas x e y provienen de `Xax` e `Yax`. La etiqueta para el legendario proviene del diccionario `labl`.\n",
    "\n",
    "7. `plt.xlabel(\"First Principal Component\", fontsize=14)` y `plt.ylabel(\"Second Principal Component\", fontsize=14)`: Establece etiquetas para los ejes x e y del gráfico.\n",
    "\n",
    "8. `plt.legend()`: Muestra una leyenda en el gráfico para indicar qué colores y marcadores corresponden a \"Alquilar\" y \"Comprar\".\n",
    "\n",
    "9. `plt.show()`: Muestra el gráfico en una ventana o en el entorno donde se está ejecutando el código.\n",
    "\n",
    "En resumen, este código crea un gráfico de dispersión bidimensional que visualiza cómo los datos se distribuyen en función de las dos primeras dimensiones principales obtenidas mediante PCA. Cada punto en el gráfico representa una instancia de datos, y los colores y marcadores se utilizan para distinguir entre las clases \"Alquilar\" y \"Comprar\"."
   ]
  },
  {
   "cell_type": "code",
   "execution_count": 107,
   "id": "407ff5cb",
   "metadata": {},
   "outputs": [
    {
     "data": {
      "image/png": "[encoded data removed]",
      "text/plain": [
       "<Figure size 700x500 with 1 Axes>"
      ]
     },
     "metadata": {},
     "output_type": "display_data"
    }
   ],
   "source": [
    "#graficamos en 2 Dimensiones, tomando los 2 primeros componentes principales\n",
    "Xax=X_pca[:,0]\n",
    "Yax=X_pca[:,1]\n",
    "labels=dataframe['comprar'].values\n",
    "cdict={0:'red',1:'green'}\n",
    "labl={0:'Alquilar',1:'Comprar'}\n",
    "marker={0:'*',1:'o'}\n",
    "alpha={0:.3, 1:.5}\n",
    "fig,ax=plt.subplots(figsize=(7,5))\n",
    "fig.patch.set_facecolor('white')\n",
    "for l in np.unique(labels):\n",
    "    ix=np.where(labels==l)\n",
    "    ax.scatter(Xax[ix],Yax[ix],c=cdict[l],label=labl[l],s=40,marker=marker[l],alpha=alpha[l])\n",
    " \n",
    "plt.xlabel(\"First Principal Component\",fontsize=14)\n",
    "plt.ylabel(\"Second Principal Component\",fontsize=14)\n",
    "plt.legend()\n",
    "plt.show()"
   ]
  },
  {
   "cell_type": "markdown",
   "id": "a67eb983",
   "metadata": {},
   "source": [
    "# HACER LA REGRESIÓN LOGÍSTICA DE LAS COMPONENTES PRINCIPALES"
   ]
  },
  {
   "cell_type": "markdown",
   "id": "032acdb0",
   "metadata": {},
   "source": [
    "# Importando librerías"
   ]
  },
  {
   "cell_type": "code",
   "execution_count": 108,
   "id": "cce89b7d",
   "metadata": {},
   "outputs": [],
   "source": [
    "from sklearn import linear_model\n",
    "from sklearn import model_selection\n",
    "from sklearn.metrics import classification_report\n",
    "from sklearn.metrics import confusion_matrix\n",
    "from sklearn.metrics import accuracy_score"
   ]
  },
  {
   "cell_type": "code",
   "execution_count": 149,
   "id": "59eb00b6",
   "metadata": {},
   "outputs": [
    {
     "name": "stdout",
     "output_type": "stream",
     "text": [
      "Dimensión para 5: (202, 5)\n",
      "Dimensión para 6: (202, 6)\n"
     ]
    }
   ],
   "source": [
    "X_pca_logistic5 = X_pca[:,0:5]\n",
    "print(f\"Dimensión para 5: {X_pca_logistic_5.shape}\")\n",
    "\n",
    "X_pca_logistic6 = X_pca[:,0:6]\n",
    "print(f\"Dimensión para 6: {X_pca_logistic_6.shape}\")\n",
    "\n",
    "Y = dataframe[\"comprar\"]\n",
    "\n",
    "X = df"
   ]
  },
  {
   "cell_type": "markdown",
   "id": "5586aa35",
   "metadata": {},
   "source": [
    "# Creando modelo de regresión logística"
   ]
  },
  {
   "cell_type": "code",
   "execution_count": 164,
   "id": "e2d16933",
   "metadata": {},
   "outputs": [
    {
     "data": {
      "text/html": [
       "<style>#sk-container-id-10 {color: black;}#sk-container-id-10 pre{padding: 0;}#sk-container-id-10 div.sk-toggleable {background-color: white;}#sk-container-id-10 label.sk-toggleable__label {cursor: pointer;display: block;width: 100%;margin-bottom: 0;padding: 0.3em;box-sizing: border-box;text-align: center;}#sk-container-id-10 label.sk-toggleable__label-arrow:before {content: \"▸\";float: left;margin-right: 0.25em;color: #696969;}#sk-container-id-10 label.sk-toggleable__label-arrow:hover:before {color: black;}#sk-container-id-10 div.sk-estimator:hover label.sk-toggleable__label-arrow:before {color: black;}#sk-container-id-10 div.sk-toggleable__content {max-height: 0;max-width: 0;overflow: hidden;text-align: left;background-color: #f0f8ff;}#sk-container-id-10 div.sk-toggleable__content pre {margin: 0.2em;color: black;border-radius: 0.25em;background-color: #f0f8ff;}#sk-container-id-10 input.sk-toggleable__control:checked~div.sk-toggleable__content {max-height: 200px;max-width: 100%;overflow: auto;}#sk-container-id-10 input.sk-toggleable__control:checked~label.sk-toggleable__label-arrow:before {content: \"▾\";}#sk-container-id-10 div.sk-estimator input.sk-toggleable__control:checked~label.sk-toggleable__label {background-color: #d4ebff;}#sk-container-id-10 div.sk-label input.sk-toggleable__control:checked~label.sk-toggleable__label {background-color: #d4ebff;}#sk-container-id-10 input.sk-hidden--visually {border: 0;clip: rect(1px 1px 1px 1px);clip: rect(1px, 1px, 1px, 1px);height: 1px;margin: -1px;overflow: hidden;padding: 0;position: absolute;width: 1px;}#sk-container-id-10 div.sk-estimator {font-family: monospace;background-color: #f0f8ff;border: 1px dotted black;border-radius: 0.25em;box-sizing: border-box;margin-bottom: 0.5em;}#sk-container-id-10 div.sk-estimator:hover {background-color: #d4ebff;}#sk-container-id-10 div.sk-parallel-item::after {content: \"\";width: 100%;border-bottom: 1px solid gray;flex-grow: 1;}#sk-container-id-10 div.sk-label:hover label.sk-toggleable__label {background-color: #d4ebff;}#sk-container-id-10 div.sk-serial::before {content: \"\";position: absolute;border-left: 1px solid gray;box-sizing: border-box;top: 0;bottom: 0;left: 50%;z-index: 0;}#sk-container-id-10 div.sk-serial {display: flex;flex-direction: column;align-items: center;background-color: white;padding-right: 0.2em;padding-left: 0.2em;position: relative;}#sk-container-id-10 div.sk-item {position: relative;z-index: 1;}#sk-container-id-10 div.sk-parallel {display: flex;align-items: stretch;justify-content: center;background-color: white;position: relative;}#sk-container-id-10 div.sk-item::before, #sk-container-id-10 div.sk-parallel-item::before {content: \"\";position: absolute;border-left: 1px solid gray;box-sizing: border-box;top: 0;bottom: 0;left: 50%;z-index: -1;}#sk-container-id-10 div.sk-parallel-item {display: flex;flex-direction: column;z-index: 1;position: relative;background-color: white;}#sk-container-id-10 div.sk-parallel-item:first-child::after {align-self: flex-end;width: 50%;}#sk-container-id-10 div.sk-parallel-item:last-child::after {align-self: flex-start;width: 50%;}#sk-container-id-10 div.sk-parallel-item:only-child::after {width: 0;}#sk-container-id-10 div.sk-dashed-wrapped {border: 1px dashed gray;margin: 0 0.4em 0.5em 0.4em;box-sizing: border-box;padding-bottom: 0.4em;background-color: white;}#sk-container-id-10 div.sk-label label {font-family: monospace;font-weight: bold;display: inline-block;line-height: 1.2em;}#sk-container-id-10 div.sk-label-container {text-align: center;}#sk-container-id-10 div.sk-container {/* jupyter's `normalize.less` sets `[hidden] { display: none; }` but bootstrap.min.css set `[hidden] { display: none !important; }` so we also need the `!important` here to be able to override the default hidden behavior on the sphinx rendered scikit-learn.org. See: https://github.com/scikit-learn/scikit-learn/issues/21755 */display: inline-block !important;position: relative;}#sk-container-id-10 div.sk-text-repr-fallback {display: none;}</style><div id=\"sk-container-id-10\" class=\"sk-top-container\"><div class=\"sk-text-repr-fallback\"><pre>LogisticRegression(max_iter=1000)</pre><b>In a Jupyter environment, please rerun this cell to show the HTML representation or trust the notebook. <br />On GitHub, the HTML representation is unable to render, please try loading this page with nbviewer.org.</b></div><div class=\"sk-container\" hidden><div class=\"sk-item\"><div class=\"sk-estimator sk-toggleable\"><input class=\"sk-toggleable__control sk-hidden--visually\" id=\"sk-estimator-id-10\" type=\"checkbox\" checked><label for=\"sk-estimator-id-10\" class=\"sk-toggleable__label sk-toggleable__label-arrow\">LogisticRegression</label><div class=\"sk-toggleable__content\"><pre>LogisticRegression(max_iter=1000)</pre></div></div></div></div></div>"
      ],
      "text/plain": [
       "LogisticRegression(max_iter=1000)"
      ]
     },
     "execution_count": 164,
     "metadata": {},
     "output_type": "execute_result"
    }
   ],
   "source": [
    "    model = linear_model.LogisticRegression(max_iter=1000)\n",
    "    model.fit(X,Y)"
   ]
  },
  {
   "cell_type": "code",
   "execution_count": 165,
   "id": "9eb7c7a2",
   "metadata": {},
   "outputs": [
    {
     "name": "stdout",
     "output_type": "stream",
     "text": [
      "[1 0 1 0 1 1 1 0 1 1 0 0 1 1 0 1 1 0 0 1 1 1 0 1 1 0 0 0 1 1 1 0 0 0 1 0 0\n",
      " 1 1 0 0 1 0 0 0 1 1 1 1 0 1 0 0 0 0 1 0 0 0 0 1 0 0 0 0 0 0 0 0 1 1 0 0 0\n",
      " 0 0 0 0 0 0 0 0 0 0 1 1 0 1 0 0 0 0 0 0 0 1 0 0 0 0 0 1 0 1 1 0 0 1 0 1 1\n",
      " 0 1 0 1 1 1 1 0 0 0 1 1 0 1 1 0 1 1 0 1 0 0 0 0 0 0 1 1 0 1 1 1 1 0 0 0 1\n",
      " 0 0 0 0 1 1 0 0 0 0 0 0 0 0 0 0 0 0 0 0 0 0 0 0 0 0 0 0 0 0 1 0 0 0 0 0 0\n",
      " 1 0 0 0 0 0 0 0 0 0 1 0 0 0 0 0 0] \n",
      " Comparación con el original: \n",
      " 0      1\n",
      "1      0\n",
      "2      1\n",
      "3      0\n",
      "4      1\n",
      "      ..\n",
      "197    0\n",
      "198    0\n",
      "199    0\n",
      "200    0\n",
      "201    0\n",
      "Name: comprar, Length: 202, dtype: int64\n"
     ]
    }
   ],
   "source": [
    "predictions = model.predict(X)\n",
    "print(predictions,\"\\n Comparación con el original: \\n\",Y)"
   ]
  },
  {
   "cell_type": "code",
   "execution_count": 163,
   "id": "469ed625",
   "metadata": {},
   "outputs": [
    {
     "data": {
      "text/html": [
       "<style>#sk-container-id-9 {color: black;}#sk-container-id-9 pre{padding: 0;}#sk-container-id-9 div.sk-toggleable {background-color: white;}#sk-container-id-9 label.sk-toggleable__label {cursor: pointer;display: block;width: 100%;margin-bottom: 0;padding: 0.3em;box-sizing: border-box;text-align: center;}#sk-container-id-9 label.sk-toggleable__label-arrow:before {content: \"▸\";float: left;margin-right: 0.25em;color: #696969;}#sk-container-id-9 label.sk-toggleable__label-arrow:hover:before {color: black;}#sk-container-id-9 div.sk-estimator:hover label.sk-toggleable__label-arrow:before {color: black;}#sk-container-id-9 div.sk-toggleable__content {max-height: 0;max-width: 0;overflow: hidden;text-align: left;background-color: #f0f8ff;}#sk-container-id-9 div.sk-toggleable__content pre {margin: 0.2em;color: black;border-radius: 0.25em;background-color: #f0f8ff;}#sk-container-id-9 input.sk-toggleable__control:checked~div.sk-toggleable__content {max-height: 200px;max-width: 100%;overflow: auto;}#sk-container-id-9 input.sk-toggleable__control:checked~label.sk-toggleable__label-arrow:before {content: \"▾\";}#sk-container-id-9 div.sk-estimator input.sk-toggleable__control:checked~label.sk-toggleable__label {background-color: #d4ebff;}#sk-container-id-9 div.sk-label input.sk-toggleable__control:checked~label.sk-toggleable__label {background-color: #d4ebff;}#sk-container-id-9 input.sk-hidden--visually {border: 0;clip: rect(1px 1px 1px 1px);clip: rect(1px, 1px, 1px, 1px);height: 1px;margin: -1px;overflow: hidden;padding: 0;position: absolute;width: 1px;}#sk-container-id-9 div.sk-estimator {font-family: monospace;background-color: #f0f8ff;border: 1px dotted black;border-radius: 0.25em;box-sizing: border-box;margin-bottom: 0.5em;}#sk-container-id-9 div.sk-estimator:hover {background-color: #d4ebff;}#sk-container-id-9 div.sk-parallel-item::after {content: \"\";width: 100%;border-bottom: 1px solid gray;flex-grow: 1;}#sk-container-id-9 div.sk-label:hover label.sk-toggleable__label {background-color: #d4ebff;}#sk-container-id-9 div.sk-serial::before {content: \"\";position: absolute;border-left: 1px solid gray;box-sizing: border-box;top: 0;bottom: 0;left: 50%;z-index: 0;}#sk-container-id-9 div.sk-serial {display: flex;flex-direction: column;align-items: center;background-color: white;padding-right: 0.2em;padding-left: 0.2em;position: relative;}#sk-container-id-9 div.sk-item {position: relative;z-index: 1;}#sk-container-id-9 div.sk-parallel {display: flex;align-items: stretch;justify-content: center;background-color: white;position: relative;}#sk-container-id-9 div.sk-item::before, #sk-container-id-9 div.sk-parallel-item::before {content: \"\";position: absolute;border-left: 1px solid gray;box-sizing: border-box;top: 0;bottom: 0;left: 50%;z-index: -1;}#sk-container-id-9 div.sk-parallel-item {display: flex;flex-direction: column;z-index: 1;position: relative;background-color: white;}#sk-container-id-9 div.sk-parallel-item:first-child::after {align-self: flex-end;width: 50%;}#sk-container-id-9 div.sk-parallel-item:last-child::after {align-self: flex-start;width: 50%;}#sk-container-id-9 div.sk-parallel-item:only-child::after {width: 0;}#sk-container-id-9 div.sk-dashed-wrapped {border: 1px dashed gray;margin: 0 0.4em 0.5em 0.4em;box-sizing: border-box;padding-bottom: 0.4em;background-color: white;}#sk-container-id-9 div.sk-label label {font-family: monospace;font-weight: bold;display: inline-block;line-height: 1.2em;}#sk-container-id-9 div.sk-label-container {text-align: center;}#sk-container-id-9 div.sk-container {/* jupyter's `normalize.less` sets `[hidden] { display: none; }` but bootstrap.min.css set `[hidden] { display: none !important; }` so we also need the `!important` here to be able to override the default hidden behavior on the sphinx rendered scikit-learn.org. See: https://github.com/scikit-learn/scikit-learn/issues/21755 */display: inline-block !important;position: relative;}#sk-container-id-9 div.sk-text-repr-fallback {display: none;}</style><div id=\"sk-container-id-9\" class=\"sk-top-container\"><div class=\"sk-text-repr-fallback\"><pre>LogisticRegression()</pre><b>In a Jupyter environment, please rerun this cell to show the HTML representation or trust the notebook. <br />On GitHub, the HTML representation is unable to render, please try loading this page with nbviewer.org.</b></div><div class=\"sk-container\" hidden><div class=\"sk-item\"><div class=\"sk-estimator sk-toggleable\"><input class=\"sk-toggleable__control sk-hidden--visually\" id=\"sk-estimator-id-9\" type=\"checkbox\" checked><label for=\"sk-estimator-id-9\" class=\"sk-toggleable__label sk-toggleable__label-arrow\">LogisticRegression</label><div class=\"sk-toggleable__content\"><pre>LogisticRegression()</pre></div></div></div></div></div>"
      ],
      "text/plain": [
       "LogisticRegression()"
      ]
     },
     "execution_count": 163,
     "metadata": {},
     "output_type": "execute_result"
    }
   ],
   "source": [
    "model5 = linear_model.LogisticRegression()\n",
    "model5.fit(X_pca_logistic_5,y_class)"
   ]
  },
  {
   "cell_type": "code",
   "execution_count": 154,
   "id": "ae5e2b47",
   "metadata": {},
   "outputs": [
    {
     "name": "stdout",
     "output_type": "stream",
     "text": [
      "[0 1 1 1 0 1 0 0 0 1 0 0 1 1 1 0 1 1 0 1 0 1 0 1 0 0 0 0 1 1 1 0 0 0 0 1 0\n",
      " 1 0 1 0 0 0 1 0 0 0 0 1 0 1 0 0 0 0 0 0 0 0 0 1 0 0 0 0 0 0 0 0 0 0 0 0 1\n",
      " 0 0 0 1 1 0 0 0 0 0 0 1 0 0 0 0 0 0 1 0 0 1 0 0 1 0 0 1 1 1 0 0 0 1 0 0 1\n",
      " 1 0 0 0 1 1 1 0 0 0 1 1 0 0 1 1 0 1 0 1 0 0 0 0 0 0 0 1 0 1 0 0 1 0 0 0 1\n",
      " 0 0 0 0 1 0 0 0 0 0 0 0 0 0 0 1 0 1 0 0 0 0 0 0 0 0 0 0 0 0 0 0 0 0 0 0 0\n",
      " 1 0 0 0 0 0 0 0 0 0 1 0 0 1 0 0 0] \n",
      " Comparación con el original: \n",
      " 0      1\n",
      "1      0\n",
      "2      1\n",
      "3      0\n",
      "4      1\n",
      "      ..\n",
      "197    0\n",
      "198    0\n",
      "199    0\n",
      "200    0\n",
      "201    0\n",
      "Name: comprar, Length: 202, dtype: int64\n"
     ]
    }
   ],
   "source": [
    "predictions = model5.predict(X_pca_logistic5)\n",
    "print(predictions,\"\\n Comparación con el original: \\n\",Y)"
   ]
  },
  {
   "cell_type": "code",
   "execution_count": 116,
   "id": "cb16beb9",
   "metadata": {},
   "outputs": [
    {
     "data": {
      "text/html": [
       "<style>#sk-container-id-5 {color: black;}#sk-container-id-5 pre{padding: 0;}#sk-container-id-5 div.sk-toggleable {background-color: white;}#sk-container-id-5 label.sk-toggleable__label {cursor: pointer;display: block;width: 100%;margin-bottom: 0;padding: 0.3em;box-sizing: border-box;text-align: center;}#sk-container-id-5 label.sk-toggleable__label-arrow:before {content: \"▸\";float: left;margin-right: 0.25em;color: #696969;}#sk-container-id-5 label.sk-toggleable__label-arrow:hover:before {color: black;}#sk-container-id-5 div.sk-estimator:hover label.sk-toggleable__label-arrow:before {color: black;}#sk-container-id-5 div.sk-toggleable__content {max-height: 0;max-width: 0;overflow: hidden;text-align: left;background-color: #f0f8ff;}#sk-container-id-5 div.sk-toggleable__content pre {margin: 0.2em;color: black;border-radius: 0.25em;background-color: #f0f8ff;}#sk-container-id-5 input.sk-toggleable__control:checked~div.sk-toggleable__content {max-height: 200px;max-width: 100%;overflow: auto;}#sk-container-id-5 input.sk-toggleable__control:checked~label.sk-toggleable__label-arrow:before {content: \"▾\";}#sk-container-id-5 div.sk-estimator input.sk-toggleable__control:checked~label.sk-toggleable__label {background-color: #d4ebff;}#sk-container-id-5 div.sk-label input.sk-toggleable__control:checked~label.sk-toggleable__label {background-color: #d4ebff;}#sk-container-id-5 input.sk-hidden--visually {border: 0;clip: rect(1px 1px 1px 1px);clip: rect(1px, 1px, 1px, 1px);height: 1px;margin: -1px;overflow: hidden;padding: 0;position: absolute;width: 1px;}#sk-container-id-5 div.sk-estimator {font-family: monospace;background-color: #f0f8ff;border: 1px dotted black;border-radius: 0.25em;box-sizing: border-box;margin-bottom: 0.5em;}#sk-container-id-5 div.sk-estimator:hover {background-color: #d4ebff;}#sk-container-id-5 div.sk-parallel-item::after {content: \"\";width: 100%;border-bottom: 1px solid gray;flex-grow: 1;}#sk-container-id-5 div.sk-label:hover label.sk-toggleable__label {background-color: #d4ebff;}#sk-container-id-5 div.sk-serial::before {content: \"\";position: absolute;border-left: 1px solid gray;box-sizing: border-box;top: 0;bottom: 0;left: 50%;z-index: 0;}#sk-container-id-5 div.sk-serial {display: flex;flex-direction: column;align-items: center;background-color: white;padding-right: 0.2em;padding-left: 0.2em;position: relative;}#sk-container-id-5 div.sk-item {position: relative;z-index: 1;}#sk-container-id-5 div.sk-parallel {display: flex;align-items: stretch;justify-content: center;background-color: white;position: relative;}#sk-container-id-5 div.sk-item::before, #sk-container-id-5 div.sk-parallel-item::before {content: \"\";position: absolute;border-left: 1px solid gray;box-sizing: border-box;top: 0;bottom: 0;left: 50%;z-index: -1;}#sk-container-id-5 div.sk-parallel-item {display: flex;flex-direction: column;z-index: 1;position: relative;background-color: white;}#sk-container-id-5 div.sk-parallel-item:first-child::after {align-self: flex-end;width: 50%;}#sk-container-id-5 div.sk-parallel-item:last-child::after {align-self: flex-start;width: 50%;}#sk-container-id-5 div.sk-parallel-item:only-child::after {width: 0;}#sk-container-id-5 div.sk-dashed-wrapped {border: 1px dashed gray;margin: 0 0.4em 0.5em 0.4em;box-sizing: border-box;padding-bottom: 0.4em;background-color: white;}#sk-container-id-5 div.sk-label label {font-family: monospace;font-weight: bold;display: inline-block;line-height: 1.2em;}#sk-container-id-5 div.sk-label-container {text-align: center;}#sk-container-id-5 div.sk-container {/* jupyter's `normalize.less` sets `[hidden] { display: none; }` but bootstrap.min.css set `[hidden] { display: none !important; }` so we also need the `!important` here to be able to override the default hidden behavior on the sphinx rendered scikit-learn.org. See: https://github.com/scikit-learn/scikit-learn/issues/21755 */display: inline-block !important;position: relative;}#sk-container-id-5 div.sk-text-repr-fallback {display: none;}</style><div id=\"sk-container-id-5\" class=\"sk-top-container\"><div class=\"sk-text-repr-fallback\"><pre>LogisticRegression()</pre><b>In a Jupyter environment, please rerun this cell to show the HTML representation or trust the notebook. <br />On GitHub, the HTML representation is unable to render, please try loading this page with nbviewer.org.</b></div><div class=\"sk-container\" hidden><div class=\"sk-item\"><div class=\"sk-estimator sk-toggleable\"><input class=\"sk-toggleable__control sk-hidden--visually\" id=\"sk-estimator-id-5\" type=\"checkbox\" checked><label for=\"sk-estimator-id-5\" class=\"sk-toggleable__label sk-toggleable__label-arrow\">LogisticRegression</label><div class=\"sk-toggleable__content\"><pre>LogisticRegression()</pre></div></div></div></div></div>"
      ],
      "text/plain": [
       "LogisticRegression()"
      ]
     },
     "execution_count": 116,
     "metadata": {},
     "output_type": "execute_result"
    }
   ],
   "source": [
    "model6 = linear_model.LogisticRegression()\n",
    "model6.fit(X_pca_logistic6,y_class)"
   ]
  },
  {
   "cell_type": "code",
   "execution_count": 155,
   "id": "ddcd92fa",
   "metadata": {},
   "outputs": [
    {
     "name": "stdout",
     "output_type": "stream",
     "text": [
      "[0 1 1 1 0 1 0 0 0 1 0 0 1 1 1 0 1 1 0 1 0 1 0 1 0 0 0 0 1 1 1 0 0 0 0 1 0\n",
      " 1 0 1 0 0 0 1 0 0 0 0 1 0 1 0 0 0 0 0 0 0 0 0 1 0 0 0 0 0 0 0 0 0 0 0 0 1\n",
      " 0 0 0 1 1 0 0 0 0 0 0 1 0 0 0 0 0 0 1 0 0 1 0 0 1 0 0 1 1 1 0 0 0 1 0 0 1\n",
      " 1 0 0 0 1 1 1 0 0 0 1 1 0 0 1 1 0 1 0 1 0 0 0 0 0 0 0 1 0 1 0 0 1 0 0 0 1\n",
      " 0 0 0 0 1 0 0 0 0 0 0 0 0 0 0 1 0 1 0 0 0 0 0 0 0 0 0 0 0 0 0 0 0 0 0 0 0\n",
      " 1 0 0 0 0 0 0 0 0 0 1 0 0 1 0 0 0] \n",
      " Comparación con el original: \n",
      " 0      1\n",
      "1      0\n",
      "2      1\n",
      "3      0\n",
      "4      1\n",
      "      ..\n",
      "197    0\n",
      "198    0\n",
      "199    0\n",
      "200    0\n",
      "201    0\n",
      "Name: comprar, Length: 202, dtype: int64\n"
     ]
    }
   ],
   "source": [
    "predictions6 = model6.predict(X_pca_logistic6)\n",
    "print(predictions,\"\\n Comparación con el original: \\n\",Y)"
   ]
  },
  {
   "cell_type": "code",
   "execution_count": 156,
   "id": "f5956c51",
   "metadata": {},
   "outputs": [
    {
     "data": {
      "text/plain": [
       "0.9554455445544554"
      ]
     },
     "execution_count": 156,
     "metadata": {},
     "output_type": "execute_result"
    }
   ],
   "source": [
    "model.score(X,Y)"
   ]
  },
  {
   "cell_type": "code",
   "execution_count": 118,
   "id": "2fad221a",
   "metadata": {},
   "outputs": [
    {
     "data": {
      "text/plain": [
       "0.7920792079207921"
      ]
     },
     "execution_count": 118,
     "metadata": {},
     "output_type": "execute_result"
    }
   ],
   "source": [
    "model5.score(X_pca_logistic5,y_class)"
   ]
  },
  {
   "cell_type": "code",
   "execution_count": 119,
   "id": "a140756e",
   "metadata": {},
   "outputs": [
    {
     "data": {
      "text/plain": [
       "0.8316831683168316"
      ]
     },
     "execution_count": 119,
     "metadata": {},
     "output_type": "execute_result"
    }
   ],
   "source": [
    "model6.score(X_pca_logistic6,y_class)"
   ]
  },
  {
   "cell_type": "markdown",
   "id": "eb2e7ec2",
   "metadata": {},
   "source": [
    "# Validación del modelo"
   ]
  },
  {
   "cell_type": "code",
   "execution_count": 159,
   "id": "19858ffb",
   "metadata": {},
   "outputs": [],
   "source": [
    "validation_size = 0.20\n",
    "seed = 7\n",
    "X_train, X_validation, Y_train, Y_validation = model_selection.train_test_split(X, y_class, test_size=validation_size, random_state=seed)\n"
   ]
  },
  {
   "cell_type": "code",
   "execution_count": 160,
   "id": "2b97274b",
   "metadata": {},
   "outputs": [],
   "source": [
    "X_train5, X_validation5, Y_train5, Y_validation5 = model_selection.train_test_split(X_pca_logistic5, y_class, test_size=validation_size, random_state=seed)"
   ]
  },
  {
   "cell_type": "code",
   "execution_count": 121,
   "id": "6a1dcdab",
   "metadata": {},
   "outputs": [],
   "source": [
    "X_train6, X_validation6, Y_train6, Y_validation6 = model_selection.train_test_split(X_pca_logistic6, y_class, test_size=validation_size, random_state=seed)"
   ]
  },
  {
   "cell_type": "code",
   "execution_count": 161,
   "id": "cc40feec",
   "metadata": {},
   "outputs": [
    {
     "name": "stdout",
     "output_type": "stream",
     "text": [
      "Logistic Regression: 0.931985 (0.075779)\n"
     ]
    }
   ],
   "source": [
    "name='Logistic Regression'\n",
    "kfold = model_selection.KFold(n_splits=10, shuffle=True, random_state=seed)\n",
    "cv_results = model_selection.cross_val_score(model, X_train, Y_train, cv=kfold, scoring='accuracy')\n",
    "msg = \"%s: %f (%f)\" % (name, cv_results.mean(), cv_results.std())\n",
    "print(msg)"
   ]
  },
  {
   "cell_type": "code",
   "execution_count": 125,
   "id": "3e2d6241",
   "metadata": {},
   "outputs": [
    {
     "name": "stdout",
     "output_type": "stream",
     "text": [
      "Logistic Regression: 0.739338 (0.120557)\n"
     ]
    }
   ],
   "source": [
    "model = model5\n",
    "name='Logistic Regression'\n",
    "kfold = model_selection.KFold(n_splits=10, shuffle=True, random_state=seed)\n",
    "cv_results = model_selection.cross_val_score(model, X_train5, Y_train5, cv=kfold, scoring='accuracy')\n",
    "msg = \"%s: %f (%f)\" % (name, cv_results.mean(), cv_results.std())\n",
    "print(msg)"
   ]
  },
  {
   "cell_type": "code",
   "execution_count": 126,
   "id": "c68c1638",
   "metadata": {},
   "outputs": [
    {
     "name": "stdout",
     "output_type": "stream",
     "text": [
      "Logistic Regression: 0.801471 (0.060186)\n"
     ]
    }
   ],
   "source": [
    "model = model6\n",
    "kfold = model_selection.KFold(n_splits=10, shuffle=True, random_state=seed)\n",
    "cv_results = model_selection.cross_val_score(model, X_train6, Y_train6, cv=kfold, scoring='accuracy')\n",
    "msg = \"%s: %f (%f)\" % (name, cv_results.mean(), cv_results.std())\n",
    "print(msg)"
   ]
  },
  {
   "cell_type": "code",
   "execution_count": 131,
   "id": "6caa9115",
   "metadata": {},
   "outputs": [
    {
     "name": "stdout",
     "output_type": "stream",
     "text": [
      "0.8292682926829268\n"
     ]
    }
   ],
   "source": [
    "predictions5 = model5.predict(X_validation5)\n",
    "print(accuracy_score(Y_validation5, predictions5))"
   ]
  },
  {
   "cell_type": "code",
   "execution_count": 132,
   "id": "93ed84d0",
   "metadata": {},
   "outputs": [
    {
     "name": "stdout",
     "output_type": "stream",
     "text": [
      "[[27  1]\n",
      " [ 6  7]]\n"
     ]
    }
   ],
   "source": [
    "print(confusion_matrix(Y_validation5, predictions5))"
   ]
  },
  {
   "cell_type": "code",
   "execution_count": 130,
   "id": "a5dd92a5",
   "metadata": {},
   "outputs": [
    {
     "name": "stdout",
     "output_type": "stream",
     "text": [
      "0.8780487804878049\n"
     ]
    }
   ],
   "source": [
    "predictions6 = model6.predict(X_validation6)\n",
    "print(accuracy_score(Y_validation6, predictions6))"
   ]
  },
  {
   "cell_type": "code",
   "execution_count": 133,
   "id": "2a6024f9",
   "metadata": {},
   "outputs": [
    {
     "name": "stdout",
     "output_type": "stream",
     "text": [
      "[[28  0]\n",
      " [ 5  8]]\n"
     ]
    }
   ],
   "source": [
    "print(confusion_matrix(Y_validation6, predictions6))"
   ]
  },
  {
   "cell_type": "code",
   "execution_count": 134,
   "id": "eda52391",
   "metadata": {},
   "outputs": [
    {
     "name": "stdout",
     "output_type": "stream",
     "text": [
      "              precision    recall  f1-score   support\n",
      "\n",
      "           0       0.82      0.96      0.89        28\n",
      "           1       0.88      0.54      0.67        13\n",
      "\n",
      "    accuracy                           0.83        41\n",
      "   macro avg       0.85      0.75      0.78        41\n",
      "weighted avg       0.84      0.83      0.82        41\n",
      "\n"
     ]
    }
   ],
   "source": [
    "print(classification_report(Y_validation5, predictions5))"
   ]
  },
  {
   "cell_type": "code",
   "execution_count": 137,
   "id": "a9cd0ac3",
   "metadata": {},
   "outputs": [
    {
     "name": "stdout",
     "output_type": "stream",
     "text": [
      "              precision    recall  f1-score   support\n",
      "\n",
      "           0       0.85      1.00      0.92        28\n",
      "           1       1.00      0.62      0.76        13\n",
      "\n",
      "    accuracy                           0.88        41\n",
      "   macro avg       0.92      0.81      0.84        41\n",
      "weighted avg       0.90      0.88      0.87        41\n",
      "\n"
     ]
    }
   ],
   "source": [
    "print(classification_report(Y_validation6, predictions6))"
   ]
  },
  {
   "cell_type": "code",
   "execution_count": 139,
   "id": "243a9297",
   "metadata": {},
   "outputs": [
    {
     "name": "stderr",
     "output_type": "stream",
     "text": [
      "C:\\ProgramData\\anaconda3\\Lib\\site-packages\\sklearn\\base.py:457: UserWarning: X has feature names, but LogisticRegression was fitted without feature names\n",
      "  warnings.warn(\n"
     ]
    },
    {
     "data": {
      "text/plain": [
       "array([1], dtype=int64)"
      ]
     },
     "execution_count": 139,
     "metadata": {},
     "output_type": "execute_result"
    }
   ],
   "source": [
    "X_new_5 = pd.DataFrame({'ingresos': [10], 'gatos_comunes': [3], 'pago_coche': [5], 'gatos_otros': [9],'ahorros':[100]})\n",
    "model5.predict(X_new_5)"
   ]
  },
  {
   "cell_type": "markdown",
   "id": "9a32a084",
   "metadata": {},
   "source": [
    "transformar los datos de mis componentes principales, escalarlo y transformalo a las 5 componentes, escalar el nuevo valor que se meta y convertirlo a los componentes. valores de conversión, "
   ]
  },
  {
   "cell_type": "code",
   "execution_count": 141,
   "id": "bf06af28",
   "metadata": {},
   "outputs": [
    {
     "name": "stderr",
     "output_type": "stream",
     "text": [
      "C:\\ProgramData\\anaconda3\\Lib\\site-packages\\sklearn\\base.py:457: UserWarning: X has feature names, but LogisticRegression was fitted without feature names\n",
      "  warnings.warn(\n"
     ]
    },
    {
     "data": {
      "text/plain": [
       "array([1], dtype=int64)"
      ]
     },
     "execution_count": 141,
     "metadata": {},
     "output_type": "execute_result"
    }
   ],
   "source": [
    "X_new_6 = pd.DataFrame({'ingresos': [10], 'gatos_comunes': [3], 'pago_coche': [5], 'gatos_otros': [9],'ahorros':[100],'vivienda':[4]})\n",
    "model6.predict(X_new_6)"
   ]
  },
  {
   "cell_type": "code",
   "execution_count": 145,
   "id": "51689203",
   "metadata": {},
   "outputs": [
    {
     "name": "stdout",
     "output_type": "stream",
     "text": [
      "Precisión con PCA: 0.9111111111111111\n",
      "Precisión con datos originales: 1.0\n"
     ]
    },
    {
     "data": {
      "image/png": "[encoded data removed]",
      "text/plain": [
       "<Figure size 1200x600 with 2 Axes>"
      ]
     },
     "metadata": {},
     "output_type": "display_data"
    }
   ],
   "source": [
    "import numpy as np\n",
    "import matplotlib.pyplot as plt\n",
    "from sklearn.datasets import load_iris\n",
    "from sklearn.model_selection import train_test_split\n",
    "from sklearn.preprocessing import StandardScaler\n",
    "from sklearn.decomposition import PCA\n",
    "from sklearn.linear_model import LogisticRegression\n",
    "from sklearn.metrics import accuracy_score\n",
    "\n",
    "# Cargar el conjunto de datos Iris\n",
    "iris = load_iris()\n",
    "X, y = iris.data, iris.target\n",
    "\n",
    "# Dividir los datos en un conjunto de entrenamiento y un conjunto de prueba\n",
    "X_train, X_test, y_train, y_test = train_test_split(X, y, test_size=0.3, random_state=42)\n",
    "\n",
    "# Escalar los datos para asegurar que todas las características tengan la misma escala\n",
    "scaler = StandardScaler()\n",
    "X_train_scaled = scaler.fit_transform(X_train)\n",
    "X_test_scaled = scaler.transform(X_test)\n",
    "\n",
    "# Aplicar PCA para reducir la dimensionalidad\n",
    "pca = PCA(n_components=2)  # Reducir a 2 componentes principales\n",
    "X_train_pca = pca.fit_transform(X_train_scaled)\n",
    "X_test_pca = pca.transform(X_test_scaled)\n",
    "\n",
    "# Entrenar un modelo de regresión logística en los componentes principales\n",
    "logistic_reg = LogisticRegression()\n",
    "logistic_reg.fit(X_train_pca, y_train)\n",
    "\n",
    "# Hacer predicciones en los datos de prueba con los componentes principales\n",
    "y_pred_pca = logistic_reg.predict(X_test_pca)\n",
    "\n",
    "# Volver a los datos originales desde los componentes principales\n",
    "X_test_original = pca.inverse_transform(X_test_pca)\n",
    "\n",
    "# Entrenar un modelo de regresión logística en los datos originales\n",
    "logistic_reg_original = LogisticRegression()\n",
    "logistic_reg_original.fit(X_train_scaled, y_train)\n",
    "\n",
    "# Hacer predicciones en los datos originales\n",
    "y_pred_original = logistic_reg_original.predict(X_test_scaled)\n",
    "\n",
    "# Calcular la precisión de ambas predicciones\n",
    "accuracy_pca = accuracy_score(y_test, y_pred_pca)\n",
    "accuracy_original = accuracy_score(y_test, y_pred_original)\n",
    "\n",
    "print(\"Precisión con PCA:\", accuracy_pca)\n",
    "print(\"Precisión con datos originales:\", accuracy_original)\n",
    "\n",
    "# Visualización de los resultados\n",
    "plt.figure(figsize=(12, 6))\n",
    "\n",
    "plt.subplot(1, 2, 1)\n",
    "plt.scatter(X_test_pca[:, 0], X_test_pca[:, 1], c=y_pred_pca, cmap='viridis')\n",
    "plt.title(\"Predicciones con PCA\")\n",
    "\n",
    "plt.subplot(1, 2, 2)\n",
    "plt.scatter(X_test_original[:, 0], X_test_original[:, 1], c=y_pred_original, cmap='viridis')\n",
    "plt.title(\"Predicciones con datos originales\")\n",
    "\n",
    "plt.show()\n"
   ]
  },
  {
   "cell_type": "code",
   "execution_count": null,
   "id": "e3c6b9db",
   "metadata": {},
   "outputs": [],
   "source": []
  }
 ],
 "metadata": {
  "kernelspec": {
   "display_name": "Python 3 (ipykernel)",
   "language": "python",
   "name": "python3"
  },
  "language_info": {
   "codemirror_mode": {
    "name": "ipython",
    "version": 3
   },
   "file_extension": ".py",
   "mimetype": "text/x-python",
   "name": "python",
   "nbconvert_exporter": "python",
   "pygments_lexer": "ipython3",
   "version": "3.11.4"
  }
 },
 "nbformat": 4,
 "nbformat_minor": 5
}
