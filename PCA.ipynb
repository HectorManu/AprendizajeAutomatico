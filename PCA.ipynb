{
 "cells": [
  {
   "cell_type": "markdown",
   "id": "f47ba40b",
   "metadata": {},
   "source": [
    "# **Análisis de Componentes Principales (PCA)**\n",
    "\n",
    "El Análisis de Componentes Principales (PCA) es un método estadístico que se utiliza para reducir la dimensionalidad de un conjunto de datos manteniendo la mayor cantidad de información posible. Esto puede ser útil en una variedad de aplicaciones, como la visualización de datos, la clasificación y la predicción.\n",
    "\n",
    "**Procedimiento del PCA**\n",
    "\n",
    "El PCA se basa en la idea de que los datos pueden ser representados como una combinación lineal de un número menor de componentes principales. Estos componentes principales son vectores que están ortogonales entre sí y que capturan la mayor cantidad de varianza de los datos.\n",
    "\n",
    "El procedimiento del PCA se puede dividir en los siguientes pasos:\n",
    "\n",
    "1. **Normalización de los datos:** Los datos se normalizan para que tengan una varianza igual. Esto es importante para garantizar que los componentes principales se encuentren en la misma escala.\n",
    "2. **Cálculo de la matriz de covarianza:** La matriz de covarianza es una matriz que representa la relación entre las variables del conjunto de datos.\n",
    "3. **Cálculo de los autovalores y autovectores de la matriz de covarianza:** Los autovalores son los valores propios de la matriz de covarianza y los autovectores son los vectores propios de la matriz de covarianza.\n",
    "4. **Selección de los componentes principales:** Los componentes principales se seleccionan en función de sus autovalores. Los componentes principales con autovalores más altos capturan más varianza de los datos.\n",
    "5. **Proyección de los datos sobre los componentes principales:** Los datos se proyectan sobre los componentes principales seleccionados.\n",
    "\n",
    "**Ventajas y desventajas del PCA**\n",
    "\n",
    "El PCA tiene una serie de ventajas, entre las que se incluyen:\n",
    "\n",
    "* Es un método simple y eficaz para reducir la dimensionalidad de los datos.\n",
    "* Puede ser utilizado para visualizar datos de alta dimensionalidad.\n",
    "* Puede mejorar el rendimiento de los modelos de aprendizaje automático.\n",
    "\n",
    "Sin embargo, el PCA también tiene algunas desventajas, entre las que se incluyen:\n",
    "\n",
    "* Puede perder información importante al reducir la dimensionalidad de los datos.\n",
    "* No es adecuado para todos los conjuntos de datos.\n",
    "\n",
    "## **Regresión Logística**\n",
    "\n",
    "La Regresión Logística es una técnica estadística ampliamente utilizada en el campo del aprendizaje automático y la estadística para abordar problemas de clasificación. A diferencia de lo que su nombre podría sugerir, la Regresión Logística no se utiliza para predecir valores continuos, como en la regresión lineal, sino que se emplea para estimar la probabilidad de que un evento binario ocurra, como \"sí/no\", \"verdadero/falso\" o \"positivo/negativo\".\n",
    "\n",
    "**Elaboración Matemática Básica**\n",
    "\n",
    "En su núcleo, la Regresión Logística se basa en una transformación logarítmica de la relación entre las variables predictoras y la probabilidad de ocurrencia del evento. Utiliza una función logística (también conocida como función sigmoide) para mapear la combinación lineal de las características de entrada a un valor en el rango de 0 a 1. Esto significa que la salida de la Regresión Logística se interpreta como la probabilidad de que el evento ocurra.\n",
    "\n",
    "**Funcionamiento Básico**\n",
    "\n",
    "El funcionamiento de la Regresión Logística es relativamente simple. Dado un conjunto de datos de entrada que consta de características y etiquetas (donde las etiquetas son binarias, como 0 o 1), el algoritmo de Regresión Logística ajusta un modelo que estima la probabilidad de que la etiqueta sea igual a 1 en función de las características proporcionadas. Si la probabilidad estimada es superior a un umbral (generalmente 0.5), el modelo clasificará el ejemplo como perteneciente a la clase positiva (1); de lo contrario, se clasificará como perteneciente a la clase negativa (0).\n",
    "\n",
    "**Ventajas y Desventajas**\n",
    "\n",
    "Ventajas de la Regresión Logística:\n",
    "- Es fácil de entender e interpretar.\n",
    "- Requiere menos ajuste de hiperparámetros en comparación con algunos algoritmos más complejos.\n",
    "- Puede manejar problemas de clasificación binaria y multiclase.\n",
    "- Proporciona probabilidades de pertenencia a una clase, lo que puede ser útil en aplicaciones donde se necesita una evaluación de riesgo.\n",
    "\n",
    "Desventajas de la Regresión Logística:\n",
    "- Es menos eficaz para capturar relaciones complejas entre características.\n",
    "- No se desempeña bien cuando las características no siguen una distribución logística.\n",
    "- Puede ser sensible a valores atípicos y datos desequilibrados.\n",
    "- No es adecuada para problemas de clasificación con más de dos clases sin extensiones adicionales."
   ]
  },
  {
   "cell_type": "markdown",
   "id": "e634c0d2",
   "metadata": {},
   "source": [
    "# Importación de librerias \n",
    "Este código es un ejemplo de un script en Python que utiliza varias bibliotecas y herramientas para realizar análisis de datos y reducción de dimensionalidad mediante PCA (Análisis de Componentes Principales). A continuación, te explicaré cada parte del código:\n",
    "\n",
    "1. Importación de bibliotecas:\n",
    "   - `import pandas as pd`: Importa la biblioteca `pandas` y la asigna a la abreviatura `pd`. Pandas es una biblioteca muy utilizada para la manipulación y análisis de datos en Python.\n",
    "   - `import numpy as np`: Importa la biblioteca `numpy` y la asigna a la abreviatura `np`. Numpy proporciona soporte para operaciones matriciales y numéricas eficientes en Python.\n",
    "   - `import matplotlib.pyplot as plt`: Importa la biblioteca `matplotlib.pyplot` y la asigna a la abreviatura `plt`. Matplotlib es una biblioteca para crear gráficos y visualizaciones en Python.\n",
    "   - `%matplotlib inline`: Esta línea es un comando especial de Jupyter Notebook o IPython que permite que las gráficas generadas con Matplotlib se muestren directamente en el notebook en lugar de abrirse en una ventana emergente.\n",
    "   - `plt.rcParams['figure.figsize'] = (16, 9)`: Establece el tamaño predeterminado de las figuras generadas por Matplotlib en 16 pulgadas de ancho y 9 pulgadas de alto.\n",
    "   - `plt.style.use('ggplot')`: Configura el estilo de los gráficos en \"ggplot\". Puedes cambiar esto a otros estilos de Matplotlib según tus preferencias.\n",
    "\n",
    "2. Importación de módulos específicos de scikit-learn:\n",
    "   - `from sklearn.decomposition import PCA`: Importa la clase `PCA` del módulo `sklearn.decomposition`. Esta clase se utilizará para realizar el análisis de componentes principales.\n",
    "   - `from sklearn.preprocessing import StandardScaler`: Importa la clase `StandardScaler` del módulo `sklearn.preprocessing`. Esta clase se utilizará para estandarizar los datos antes de aplicar PCA, lo que significa que se escalan para tener una media de 0 y una desviación estándar de 1 en cada característica.\n"
   ]
  },
  {
   "cell_type": "code",
   "execution_count": 1,
   "id": "322b0006",
   "metadata": {},
   "outputs": [],
   "source": [
    "#importamos librerías\n",
    "import pandas as pd\n",
    "import numpy as np\n",
    "import matplotlib.pyplot as plt\n",
    "import seaborn as sb\n",
    "%matplotlib inline\n",
    "plt.rcParams['figure.figsize'] = (16, 9)\n",
    "plt.style.use('ggplot')\n",
    "from sklearn.decomposition import PCA\n",
    "from sklearn.preprocessing import StandardScaler"
   ]
  },
  {
   "cell_type": "markdown",
   "id": "d1418c05",
   "metadata": {},
   "source": [
    "# Carga de datos"
   ]
  },
  {
   "cell_type": "markdown",
   "id": "8548841d",
   "metadata": {},
   "source": [
    "Este código carga datos desde un archivo CSV en un objeto de DataFrame utilizando la biblioteca `pandas`. A continuación, te explico cada parte del código:\n",
    "\n",
    "1. `dataframe = pd.read_csv(r\"comprar_alquilar.csv\")`: Esta línea carga los datos del archivo CSV llamado \"comprar_alquilar.csv\" en un objeto de DataFrame y lo asigna a la variable `dataframe`. Aquí está lo que sucede en detalle:\n",
    "   - `pd.read_csv(...)`: Utiliza la función `read_csv` de la biblioteca `pandas` para leer un archivo CSV y crear un DataFrame a partir de él.\n",
    "   - `\"comprar_alquilar.csv\"`: Es la ruta del archivo CSV que se va a cargar. En este caso, se asume que el archivo \"comprar_alquilar.csv\" se encuentra en el directorio de trabajo actual.\n",
    "   - `r` antes de la cadena de la ruta (`r\"comprar_alquilar.csv\"`) indica que la cadena se debe interpretar como una cadena cruda, lo que significa que los caracteres de escape (como `\\n` o `\\t`) no se procesarán. Esto es útil cuando se trabaja con rutas de archivos en sistemas Windows.\n",
    "\n",
    "2. `print(dataframe.tail(10))`: Después de cargar los datos en el DataFrame `dataframe`, esta línea imprime las últimas 10 filas del DataFrame en la consola. Aquí está lo que sucede:\n",
    "   - `dataframe.tail(10)`: Utiliza el método `tail(10)` del DataFrame `dataframe` para seleccionar las últimas 10 filas del DataFrame. El método `tail()` muestra las últimas filas por defecto, pero puedes especificar un número diferente dentro de los paréntesis para ver más o menos filas.\n",
    "   - `print(...)`: Imprime las filas seleccionadas en la consola.\n",
    "\n",
    "En resumen, este código carga un archivo CSV llamado \"comprar_alquilar.csv\" en un DataFrame de pandas y luego muestra las últimas 10 filas de ese DataFrame en la consola. Esto es útil para verificar rápidamente los datos cargados y comprender su estructura antes de realizar análisis adicionales."
   ]
  },
  {
   "cell_type": "code",
   "execution_count": 2,
   "id": "e616c508",
   "metadata": {},
   "outputs": [
    {
     "name": "stdout",
     "output_type": "stream",
     "text": [
      "     ingresos  gastos_comunes  pago_coche  gastos_otros  ahorros  vivienda  \\\n",
      "197      3831             690         352           488    10723    363120   \n",
      "198      3961            1030         270           475    21880    280421   \n",
      "199      3184             955         276           684    35565    388025   \n",
      "200      3334             867         369           652    19985    376892   \n",
      "201      3988            1157         105           382    11980    257580   \n",
      "\n",
      "     estado_civil  hijos  trabajo  comprar  \n",
      "197             0      0        2        0  \n",
      "198             2      3        8        0  \n",
      "199             1      3        8        0  \n",
      "200             1      2        5        0  \n",
      "201             0      0        4        0  \n",
      "Hola/niño\n",
      "Hola/niño\n"
     ]
    }
   ],
   "source": [
    "#cargamos los datos de entrada\n",
    "dataframe = pd.read_csv(r\"comprar_alquilar.csv\")\n",
    "print(dataframe.tail())\n",
    "\n",
    "print(\"Hola/niño\")\n",
    "print(r\"Hola/niño\")"
   ]
  },
  {
   "cell_type": "code",
   "execution_count": 3,
   "id": "6db1cf54",
   "metadata": {},
   "outputs": [
    {
     "name": "stdout",
     "output_type": "stream",
     "text": [
      "Hola\n",
      "iño\n",
      "Hola\\niño\n"
     ]
    }
   ],
   "source": [
    "print(\"Hola\\niño\")\n",
    "print(r\"Hola\\niño\")"
   ]
  },
  {
   "cell_type": "markdown",
   "id": "e2b7e6b1",
   "metadata": {},
   "source": [
    "# Normalización de datos"
   ]
  },
  {
   "cell_type": "markdown",
   "id": "c4740554",
   "metadata": {},
   "source": [
    "Este código realiza la normalización de los datos utilizando la clase `StandardScaler` de scikit-learn. La normalización es un paso común en el preprocesamiento de datos antes de aplicar algoritmos de aprendizaje automático, ya que ayuda a que las características tengan una escala comparable, lo que puede mejorar el rendimiento de muchos algoritmos.\n",
    "\n",
    "A continuación, se explica cada parte del código:\n",
    "\n",
    "1. `scaler = StandardScaler()`: Se crea una instancia de la clase `StandardScaler` y se asigna a la variable `scaler`. Esta instancia se utilizará para realizar la normalización de los datos.\n",
    "\n",
    "2. `df = dataframe.drop(['comprar'], axis=1)`: Se crea un nuevo DataFrame llamado `df` a partir del DataFrame original `dataframe`. En este nuevo DataFrame, se eliminó la columna llamada \"comprar\". La columna \"comprar\" se asume como la variable dependiente o de destino, y se elimina de `df` para que solo contenga las características o variables independientes.\n",
    "\n",
    "3. `scaler.fit(df)`: Se utiliza el método `fit` del objeto `scaler` para calcular la media y la desviación estándar de cada columna en `df`. Esto se hace para que la normalización se base en la media y la desviación estándar de los datos.\n",
    "\n",
    "4. `X_scaled = scaler.transform(df)`: Se utiliza el método `transform` del objeto `scaler` para aplicar la normalización a las características en `df`. El resultado normalizado se almacena en un nuevo array llamado `X_scaled`. Después de esta operación, `X_scaled` contendrá las características normalizadas que pueden ser utilizadas en análisis posteriores o en modelos de aprendizaje automático.\n",
    "\n",
    "En resumen, este código elimina la variable dependiente de un DataFrame, calcula la media y la desviación estándar de las características restantes y luego normaliza esas características utilizando `StandardScaler`. El resultado es un nuevo conjunto de datos normalizado, listo para ser utilizado en análisis o modelos de machine learning."
   ]
  },
  {
   "cell_type": "code",
   "execution_count": 4,
   "id": "e9e576aa",
   "metadata": {},
   "outputs": [
    {
     "name": "stdout",
     "output_type": "stream",
     "text": [
      "[4.95899505e+03 9.71584158e+02 2.11742574e+02 5.15425743e+02\n",
      " 3.87496683e+04 3.73349639e+05 1.02475248e+00 1.23267327e+00\n",
      " 4.49009901e+00]\n",
      "[1.67869189e+03 2.71431984e+02 1.24631111e+02 1.67686462e+02\n",
      " 1.73221953e+04 1.36033554e+05 8.35109045e-01 1.36444301e+00\n",
      " 2.52950921e+00]\n",
      "[[ 0.62012866  0.10468863 -1.69895439 ... -1.22708822  0.5623736\n",
      "  -0.98441983]\n",
      " [ 1.0639266  -0.10162457 -0.71204191 ... -0.02963981  1.29527339\n",
      "   0.59691461]\n",
      " [ 0.89117304  0.22626604 -0.91263388 ...  1.1678086  -0.17052619\n",
      "   1.38758182]\n",
      " ...\n",
      " [-1.05736798 -0.06109876  0.51558094 ... -0.02963981  1.29527339\n",
      "   1.38758182]\n",
      " [-0.96801269 -0.38530521  1.26178306 ... -0.02963981  0.5623736\n",
      "   0.201581  ]\n",
      " [-0.57842363  0.68310241 -0.85646812 ... -1.22708822 -0.90342598\n",
      "  -0.19375261]]\n"
     ]
    }
   ],
   "source": [
    "#normalizamos los datos\n",
    "scaler=StandardScaler()\n",
    "df = dataframe.drop(['comprar'], axis=1) # quito la variable dependiente \"Y\"\n",
    "scaler.fit(df) # calculo la media para poder hacer la transformacion\n",
    "print(scaler.mean_)\n",
    "print(scaler.scale_)\n",
    "X_scaled=scaler.transform(df)# Ahora si, escalo los datos y los normalizo\n",
    "print(X_scaled)"
   ]
  },
  {
   "cell_type": "markdown",
   "id": "186a467d",
   "metadata": {},
   "source": [
    "# Aplicando PCA"
   ]
  },
  {
   "cell_type": "markdown",
   "id": "344bb27b",
   "metadata": {},
   "source": [
    "Este código utiliza la técnica de Análisis de Componentes Principales (PCA) para reducir la dimensionalidad de un conjunto de datos previamente normalizado. PCA es una técnica que busca reducir la cantidad de características (dimensiones) en un conjunto de datos, manteniendo la mayor cantidad posible de información. Aquí está la explicación del código paso a paso:\n",
    "\n",
    "1. `pca = PCA(n_components=9)`: Se crea una instancia del objeto `PCA` (Análisis de Componentes Principales) con la opción `n_components=9`. Esto significa que PCA buscará reducir la dimensionalidad del conjunto de datos original a 9 dimensiones principales. También se puede especificar otro número o utilizar un valor decimal (como 0.85) para indicar la cantidad mínima de varianza explicada que se desea retener.\n",
    "\n",
    "2. `pca.fit(X_scaled)`: Se utiliza el método `fit` del objeto `PCA` para calcular los componentes principales basados en los datos normalizados `X_scaled`. Estos componentes principales son combinaciones lineales de las características originales que explican la mayor cantidad de varianza en los datos.\n",
    "\n",
    "3. `X_pca = pca.transform(X_scaled)`: Se utiliza el método `transform` del objeto `PCA` para transformar los datos originales normalizados `X_scaled` en un nuevo conjunto de datos `X_pca` que consiste en las dimensiones principales obtenidas a través de PCA. En otras palabras, `X_pca` contiene los datos proyectados en el espacio de las dimensiones principales.\n",
    "\n",
    "4. `print(\"shape of X_pca\", X_pca.shape)`: Muestra en la consola la forma (número de filas y columnas) del nuevo conjunto de datos `X_pca`. Esto te dará una idea de cuántas dimensiones se han reducido.\n",
    "\n",
    "5. `expl = pca.explained_variance_ratio_`: Calcula las razones de la varianza explicada para cada una de las dimensiones principales obtenidas. Estas razones representan la proporción de varianza en los datos originales que se conserva en cada dimensión principal.\n",
    "\n",
    "6. `print(expl)`: Imprime las razones de la varianza explicada en la consola. Esto te permite ver cuánta varianza se explica en cada dimensión principal.\n",
    "\n",
    "7. `print('suma:',sum(expl[0:5]))`: Imprime la suma de las razones de la varianza explicada para las primeras 5 dimensiones principales. Esto te da una idea de cuánta varianza total se conserva al retener solo las 5 dimensiones principales. En este caso, se está verificando si se retiene al menos el 85% de la varianza original.\n",
    "\n",
    "En resumen, este código utiliza PCA para reducir la dimensionalidad de los datos normalizados y calcular las dimensiones principales que conservan la información más importante. Luego, muestra la información sobre la cantidad de dimensiones retenidas y la varianza explicada por cada una de ellas. El objetivo es determinar cuántas dimensiones principales se deben retener para conservar una cantidad significativa de información en los datos."
   ]
  },
  {
   "cell_type": "code",
   "execution_count": 5,
   "id": "526520d1",
   "metadata": {},
   "outputs": [
    {
     "name": "stdout",
     "output_type": "stream",
     "text": [
      "[23.32012997 20.57915696 14.5914482  13.93788379 13.23515641 10.11686549\n",
      "  8.68139549  7.40702015  5.97862564]\n",
      "[[-4.93720326e-01 -3.18228652e-01  1.23770585e-01  1.11875722e-01\n",
      "  -4.44650306e-01 -4.62608605e-01  2.52278902e-01  2.59858682e-01\n",
      "   2.90247540e-01]\n",
      " [ 3.06958523e-01  1.47372634e-01 -9.16409584e-02  1.11593405e-04\n",
      "   2.88434882e-01  1.48984886e-01  4.69043960e-01  5.21893872e-01\n",
      "   5.27155638e-01]\n",
      " [ 9.14192492e-02  3.63453156e-01  5.16144106e-01 -7.01985912e-01\n",
      "  -1.91767355e-01 -1.40513292e-01  1.72884784e-01 -1.12183561e-01\n",
      "   3.69101842e-02]\n",
      " [ 1.11222044e-01  8.16296251e-02  7.80267686e-01  5.90704378e-01\n",
      "   2.28391302e-02  1.50085403e-01 -7.66309571e-03  7.40404830e-03\n",
      "  -7.49271067e-03]\n",
      " [ 8.88965452e-02  7.63005855e-01 -2.65553621e-01  3.30743735e-01\n",
      "  -2.89002223e-01 -3.65555555e-01 -1.04638865e-01  4.36678973e-02\n",
      "   8.65473020e-06]\n",
      " [-7.54772584e-02  6.79027972e-02 -1.53696523e-01  1.54422329e-01\n",
      "  -2.30180519e-01  2.90798556e-01  7.67069963e-01 -3.87963615e-01\n",
      "  -2.56445999e-01]\n",
      " [ 1.54318903e-01 -1.05597504e-01  2.73330932e-02  1.01876185e-01\n",
      "   5.24583921e-01 -6.41033631e-01  2.12365274e-01 -4.60066684e-01\n",
      "   1.05053409e-01]\n",
      " [ 1.27315337e-02 -1.02744705e-02  6.17585617e-02 -3.79772484e-02\n",
      "   2.12758945e-01 -2.60846538e-01  2.04816499e-01  5.32216258e-01\n",
      "  -7.45630420e-01]\n",
      " [ 7.76989739e-01 -3.74439739e-01 -4.85573127e-02  2.66312737e-02\n",
      "  -4.74167761e-01 -1.56100840e-01 -3.28928950e-03  1.10512225e-02\n",
      "  -6.06572632e-02]]\n",
      "shape of X_pca (202, 9)\n",
      "[0.29913557 0.23294923 0.11711241 0.10685622 0.09635279 0.05629866\n",
      " 0.04145579 0.03017819 0.01966115]\n",
      "suma: 0.908704873663735\n"
     ]
    }
   ],
   "source": [
    "#Instanciamos objeto PCA y aplicamos\n",
    "pca=PCA(n_components=9) # Otra opción es instanciar pca sólo con dimensiones nuevas hasta obtener un mínimo \"explicado\" ej.: pca=PCA(.85)\n",
    "pca.fit(X_scaled) # obtener los componentes principales\n",
    "X_pca=pca.transform(X_scaled) # convertimos nuestros datos con las nuevas dimensiones de PCA\n",
    " \n",
    "print(pca.singular_values_) # valores singulares \n",
    "print(pca.components_)# \n",
    "\n",
    "print(\"shape of X_pca\", X_pca.shape)\n",
    "expl = pca.explained_variance_ratio_\n",
    "print(expl)\n",
    "print('suma:',sum(expl[0:6]))\n",
    "#Vemos que con 5 componentes tenemos algo mas del 85% de varianza explicada\n",
    " \n"
   ]
  },
  {
   "cell_type": "code",
   "execution_count": 6,
   "id": "4218dfc0",
   "metadata": {},
   "outputs": [
    {
     "name": "stdout",
     "output_type": "stream",
     "text": [
      "(202, 5)\n"
     ]
    }
   ],
   "source": [
    "print(X_pca[:,0:5].shape)"
   ]
  },
  {
   "cell_type": "markdown",
   "id": "bf10b3c9",
   "metadata": {},
   "source": [
    "# Gráfica de varianza"
   ]
  },
  {
   "cell_type": "markdown",
   "id": "e90a61ed",
   "metadata": {},
   "source": [
    "Este código genera un gráfico que muestra cómo la varianza explicada acumulativa cambia a medida que se aumenta el número de componentes principales utilizados en PCA. Aquí tienes una explicación detallada del código:\n",
    "\n",
    "1. `plt.plot(np.cumsum(pca.explained_variance_ratio_))`: Esta línea utiliza la biblioteca `matplotlib` para crear un gráfico de líneas. En el eje x, representa el número de componentes principales (dimensiones) y en el eje y, representa la varianza explicada acumulativa.\n",
    "\n",
    "   - `np.cumsum(pca.explained_variance_ratio_)`: `np.cumsum()` es una función de NumPy que calcula la suma acumulativa de los elementos en un arreglo. En este caso, se aplica a `pca.explained_variance_ratio_`, que contiene las razones de la varianza explicada por cada componente principal. Esto crea una serie de valores acumulativos que representan cuánta varianza se explica al considerar un número creciente de componentes principales.\n",
    "\n",
    "2. `plt.xlabel('number of components')`: Establece una etiqueta para el eje x del gráfico, que representa el número de componentes principales.\n",
    "\n",
    "3. `plt.ylabel('cumulative explained variance')`: Establece una etiqueta para el eje y del gráfico, que representa la varianza explicada acumulativa.\n",
    "\n",
    "4. `plt.show()`: Muestra el gráfico en una ventana o en el entorno donde se está ejecutando el código. Este comando es necesario para visualizar el gráfico en la pantalla.\n",
    "\n",
    "En resumen, este código crea un gráfico que te permite visualizar cómo la cantidad acumulativa de varianza explicada cambia a medida que se consideran más componentes principales en el análisis de PCA. La gráfica puede ser útil para determinar cuántos componentes principales son necesarios para retener una cantidad suficiente de información en tus datos, ya que muestra cómo la varianza explicada se acumula a medida que aumentas el número de dimensiones principales consideradas."
   ]
  },
  {
   "cell_type": "code",
   "execution_count": 7,
   "id": "4f904510",
   "metadata": {},
   "outputs": [
    {
     "data": {
      "image/png": "[encoded data removed]",
      "text/plain": [
       "<Figure size 1600x900 with 1 Axes>"
      ]
     },
     "metadata": {},
     "output_type": "display_data"
    }
   ],
   "source": [
    "#graficamos el acumulado de varianza explicada en las nuevas dimensiones\n",
    "plt.plot(np.cumsum(pca.explained_variance_ratio_))\n",
    "plt.xlabel('number of components')\n",
    "plt.ylabel('cumulative explained variance')\n",
    "plt.show()"
   ]
  },
  {
   "cell_type": "markdown",
   "id": "b77a24f1",
   "metadata": {},
   "source": [
    "# Gráfico de dispersión bidimiensional"
   ]
  },
  {
   "cell_type": "markdown",
   "id": "4d72d720",
   "metadata": {},
   "source": [
    "Este código crea un gráfico de dispersión bidimensional utilizando los dos primeros componentes principales obtenidos mediante PCA para visualizar cómo los datos se distribuyen en función de estas dos dimensiones principales. A continuación, se explica en detalle cada parte del código:\n",
    "\n",
    "1. `Xax = X_pca[:, 0]` y `Yax = X_pca[:, 1]`: Estas líneas extraen las dos primeras dimensiones principales del conjunto de datos transformado `X_pca` y las almacenan en las variables `Xax` y `Yax`, respectivamente. Estas serán las coordenadas en el gráfico para el primer y segundo componente principal.\n",
    "\n",
    "2. `labels = dataframe['comprar'].values`: Se crea un arreglo llamado `labels` que contiene los valores de la columna \"comprar\" del DataFrame `dataframe`. Esto representa la variable objetivo, donde 0 podría corresponder a \"Alquilar\" y 1 a \"Comprar\".\n",
    "\n",
    "3. `cdict`, `labl`, `marker`, y `alpha`: Estos diccionarios definen diferentes atributos visuales para los puntos en el gráfico en función de las etiquetas de clase. \n",
    "   - `cdict`: Asocia colores a las etiquetas. Por ejemplo, el valor 0 se asocia con \"rojo\" y el valor 1 con \"verde\".\n",
    "   - `labl`: Asocia etiquetas legibles a las etiquetas de clase. Por ejemplo, 0 se asocia con \"Alquilar\" y 1 con \"Comprar\".\n",
    "   - `marker`: Asocia diferentes tipos de marcadores a las etiquetas de clase. Por ejemplo, 0 se asocia con \"*\" y 1 con \"o\".\n",
    "   - `alpha`: Asocia niveles de transparencia a las etiquetas de clase. Esto puede hacer que algunos puntos sean más transparentes que otros para mejorar la visualización de superposiciones.\n",
    "\n",
    "4. `fig, ax = plt.subplots(figsize=(7, 5))`: Se crea una figura y un eje para el gráfico con una figura de tamaño específico.\n",
    "\n",
    "5. `fig.patch.set_facecolor('white')`: Establece el fondo de la figura en blanco.\n",
    "\n",
    "6. El siguiente bucle `for` itera a través de las etiquetas únicas en el arreglo `labels`. Para cada etiqueta única:\n",
    "   - `ix = np.where(labels == l)`: Encuentra los índices donde la etiqueta es igual a la etiqueta actual `l`.\n",
    "   - `ax.scatter(...)`: Realiza un gráfico de dispersión (scatter plot) en el eje `ax` para los puntos correspondientes a esa etiqueta. Utiliza el color, el marcador y la transparencia especificados en los diccionarios `cdict`, `marker` y `alpha`, respectivamente. Las coordenadas x e y provienen de `Xax` e `Yax`. La etiqueta para el legendario proviene del diccionario `labl`.\n",
    "\n",
    "7. `plt.xlabel(\"First Principal Component\", fontsize=14)` y `plt.ylabel(\"Second Principal Component\", fontsize=14)`: Establece etiquetas para los ejes x e y del gráfico.\n",
    "\n",
    "8. `plt.legend()`: Muestra una leyenda en el gráfico para indicar qué colores y marcadores corresponden a \"Alquilar\" y \"Comprar\".\n",
    "\n",
    "9. `plt.show()`: Muestra el gráfico en una ventana o en el entorno donde se está ejecutando el código.\n",
    "\n",
    "En resumen, este código crea un gráfico de dispersión bidimensional que visualiza cómo los datos se distribuyen en función de las dos primeras dimensiones principales obtenidas mediante PCA. Cada punto en el gráfico representa una instancia de datos, y los colores y marcadores se utilizan para distinguir entre las clases \"Alquilar\" y \"Comprar\"."
   ]
  },
  {
   "cell_type": "code",
   "execution_count": 8,
   "id": "407ff5cb",
   "metadata": {},
   "outputs": [
    {
     "data": {
      "image/png": "[encoded data removed]",
      "text/plain": [
       "<Figure size 700x500 with 1 Axes>"
      ]
     },
     "metadata": {},
     "output_type": "display_data"
    }
   ],
   "source": [
    "#graficamos en 2 Dimensiones, tomando los 2 primeros componentes principales\n",
    "Xax=X_pca[:,0]\n",
    "Yax=X_pca[:,1]\n",
    "labels=dataframe['comprar'].values\n",
    "cdict={0:'red',1:'green'}\n",
    "labl={0:'Alquilar',1:'Comprar'}\n",
    "marker={0:'*',1:'o'}\n",
    "alpha={0:.3, 1:.5}\n",
    "fig,ax=plt.subplots(figsize=(7,5))\n",
    "fig.patch.set_facecolor('white')\n",
    "for l in np.unique(labels):\n",
    "    ix=np.where(labels==l)\n",
    "    ax.scatter(Xax[ix],Yax[ix],c=cdict[l],label=labl[l],s=40,marker=marker[l],alpha=alpha[l])\n",
    " \n",
    "plt.xlabel(\"First Principal Component\",fontsize=14)\n",
    "plt.ylabel(\"Second Principal Component\",fontsize=14)\n",
    "plt.legend()\n",
    "plt.show()"
   ]
  },
  {
   "cell_type": "markdown",
   "id": "a67eb983",
   "metadata": {},
   "source": [
    "# Aplicando regresión logística"
   ]
  },
  {
   "cell_type": "markdown",
   "id": "2669ee4a",
   "metadata": {},
   "source": [
    "## Importando librerías"
   ]
  },
  {
   "cell_type": "markdown",
   "id": "3573c53e",
   "metadata": {},
   "source": [
    "Las siguientes líneas de código importan las bibliotecas necesarias para realizar una clasificación usando un modelo de regresión lineal:\n",
    "\n",
    "```python\n",
    "from sklearn import linear_model\n",
    "from sklearn import model_selection\n",
    "from sklearn.metrics import classification_report\n",
    "from sklearn.metrics import confusion_matrix\n",
    "from sklearn.metrics import accuracy_score\n",
    "```\n",
    "\n",
    "* `sklearn.linear_model` contiene modelos de regresión lineal, como `LinearRegression` y `LogisticRegression`.\n",
    "* `sklearn.model_selection` contiene funciones para dividir los datos en conjuntos de entrenamiento y prueba, como `train_test_split`.\n",
    "* `sklearn.metrics` contiene funciones para evaluar el rendimiento de los modelos, como `classification_report`, `confusion_matrix` y `accuracy_score`.\n",
    "\n",
    "Una posible explicación del código es la siguiente:\n",
    "\n",
    "```python\n",
    "# Cargar los datos\n",
    "X_train, X_test, y_train, y_test = train_test_split(X, y, test_size=0.25)\n",
    "\n",
    "# Crear un modelo de regresión logística\n",
    "clf = LogisticRegression()\n",
    "\n",
    "# Entrenar el modelo\n",
    "clf.fit(X_train, y_train)\n",
    "\n",
    "# Hacer predicciones en el conjunto de prueba\n",
    "y_pred = clf.predict(X_test)\n",
    "\n",
    "# Evaluar el rendimiento del modelo\n",
    "print(classification_report(y_test, y_pred))\n",
    "print(confusion_matrix(y_test, y_pred))\n",
    "print(accuracy_score(y_test, y_pred))\n",
    "```\n",
    "\n",
    "Este código primero divide los datos en conjuntos de entrenamiento y prueba. El conjunto de entrenamiento se utiliza para entrenar el modelo, mientras que el conjunto de prueba se utiliza para evaluar el rendimiento del modelo.\n",
    "\n",
    "Luego, se crea un modelo de regresión logística y se entrena en el conjunto de entrenamiento. Una vez que el modelo está entrenado, se utiliza para hacer predicciones en el conjunto de prueba.\n",
    "\n",
    "Finalmente, se utilizan las funciones `classification_report`, `confusion_matrix` y `accuracy_score` para evaluar el rendimiento del modelo en el conjunto de prueba.\n",
    "\n",
    "El reporte de clasificación (`classification_report`) proporciona información detallada sobre el rendimiento del modelo, como la precisión, el recall y la puntuación F1 para cada clase. La matriz de confusión (`confusion_matrix`) muestra el número de muestras correctamente e incorrectamente clasificadas para cada clase. La precisión (`accuracy_score`) es la fracción de muestras que fueron clasificadas correctamente.\n",
    "\n",
    "Este código se puede utilizar para evaluar el rendimiento de cualquier modelo de clasificación, no solo los modelos de regresión lineal.Las siguientes líneas de código importan las bibliotecas necesarias para realizar una clasificación usando un modelo de regresión lineal:\n",
    "\n",
    "```python\n",
    "from sklearn import linear_model\n",
    "from sklearn import model_selection\n",
    "from sklearn.metrics import classification_report\n",
    "from sklearn.metrics import confusion_matrix\n",
    "from sklearn.metrics import accuracy_score\n",
    "```\n",
    "\n",
    "* `sklearn.linear_model` contiene modelos de regresión lineal, como `LinearRegression` y `LogisticRegression`.\n",
    "* `sklearn.model_selection` contiene funciones para dividir los datos en conjuntos de entrenamiento y prueba, como `train_test_split`.\n",
    "* `sklearn.metrics` contiene funciones para evaluar el rendimiento de los modelos, como `classification_report`, `confusion_matrix` y `accuracy_score`.\n",
    "\n",
    "Una posible explicación del código es la siguiente:\n",
    "\n",
    "```python\n",
    "# Cargar los datos\n",
    "X_train, X_test, y_train, y_test = train_test_split(X, y, test_size=0.25)\n",
    "\n",
    "# Crear un modelo de regresión logística\n",
    "clf = LogisticRegression()\n",
    "\n",
    "# Entrenar el modelo\n",
    "clf.fit(X_train, y_train)\n",
    "\n",
    "# Hacer predicciones en el conjunto de prueba\n",
    "y_pred = clf.predict(X_test)\n",
    "\n",
    "# Evaluar el rendimiento del modelo\n",
    "print(classification_report(y_test, y_pred))\n",
    "print(confusion_matrix(y_test, y_pred))\n",
    "print(accuracy_score(y_test, y_pred))\n",
    "```\n",
    "\n",
    "Este código primero divide los datos en conjuntos de entrenamiento y prueba. El conjunto de entrenamiento se utiliza para entrenar el modelo, mientras que el conjunto de prueba se utiliza para evaluar el rendimiento del modelo.\n",
    "\n",
    "Luego, se crea un modelo de regresión logística y se entrena en el conjunto de entrenamiento. Una vez que el modelo está entrenado, se utiliza para hacer predicciones en el conjunto de prueba.\n",
    "\n",
    "Finalmente, se utilizan las funciones `classification_report`, `confusion_matrix` y `accuracy_score` para evaluar el rendimiento del modelo en el conjunto de prueba.\n",
    "\n",
    "El reporte de clasificación (`classification_report`) proporciona información detallada sobre el rendimiento del modelo, como la precisión, el recall y la puntuación F1 para cada clase. La matriz de confusión (`confusion_matrix`) muestra el número de muestras correctamente e incorrectamente clasificadas para cada clase. La precisión (`accuracy_score`) es la fracción de muestras que fueron clasificadas correctamente.\n",
    "\n",
    "Este código se puede utilizar para evaluar el rendimiento de cualquier modelo de clasificación, no solo los modelos de regresión lineal."
   ]
  },
  {
   "cell_type": "code",
   "execution_count": 9,
   "id": "53f6bdeb",
   "metadata": {},
   "outputs": [],
   "source": [
    "from sklearn import linear_model\n",
    "from sklearn import model_selection\n",
    "from sklearn.metrics import classification_report\n",
    "from sklearn.metrics import confusion_matrix\n",
    "from sklearn.metrics import accuracy_score"
   ]
  },
  {
   "cell_type": "markdown",
   "id": "e2b1cb2d",
   "metadata": {},
   "source": [
    "`classification_report(Y_validation6, predictions6)`: Esta es la llamada a la función `classification_report`. Esta función es comúnmente utilizada en el contexto de la evaluación de modelos de clasificación en aprendizaje automático. Toma dos argumentos principales:\n",
    "\n",
    "   - `Y_validation6`: Este es el conjunto de etiquetas verdaderas o reales (ground truth) que se compara con las predicciones generadas por el modelo. Por lo general, contiene las etiquetas reales de un conjunto de datos de prueba o validación. Cada etiqueta en `Y_validation6` corresponde a la clase real a la que pertenece un ejemplo del conjunto de datos.\n",
    "\n",
    "   - `predictions6`: Este es el conjunto de predicciones generadas por un modelo de clasificación. Estas predicciones son las etiquetas que el modelo ha asignado a los ejemplos del conjunto de datos de prueba o validación. Por lo general, se obtienen a través de la aplicación del modelo a los datos de entrada.\n",
    "\n",
    "`print(...)`: Esta es una función en Python que se utiliza para imprimir el resultado de la función `classification_report` en la consola o en la salida estándar para que puedas ver y analizar los resultados."
   ]
  },
  {
   "cell_type": "code",
   "execution_count": 11,
   "id": "96a49a87",
   "metadata": {},
   "outputs": [
    {
     "name": "stdout",
     "output_type": "stream",
     "text": [
      "(202, 9)\n"
     ]
    }
   ],
   "source": [
    "print(X_test_original.shape)"
   ]
  },
  {
   "cell_type": "markdown",
   "id": "11588503",
   "metadata": {},
   "source": [
    "`X_pca_logistic5 = X_pca[:,0:5]`: En esta línea de código, se crea una nueva matriz `X_pca_logistic5` que contiene solo las primeras 5 columnas de la matriz `X_pca`. Esto se hace utilizando la notación de división de matrices en numpy. `X_pca` probablemente es una matriz que resultó de aplicar Análisis de Componentes Principales (PCA) a un conjunto de datos original. Al seleccionar solo las primeras 5 columnas, estás eligiendo retener solo las cinco primeras componentes principales generadas por PCA.\n",
    "\n",
    "   - `X_pca` es una matriz que contiene las componentes principales calculadas a partir de los datos originales mediante PCA.\n",
    "\n",
    "   - `[:,0:5]` selecciona todas las filas de `X_pca` y las primeras 5 columnas.\n",
    "\n",
    "   - Luego, se imprime la dimensión de `X_pca_logistic5` usando `shape` para mostrar cuántas filas y columnas tiene.\n",
    "\n",
    "`X_pca_logistic6 = X_pca[:,0:6]`: Similar a la línea anterior, aquí se crea otra matriz `X_pca_logistic6` que contiene las primeras 6 columnas de la matriz `X_pca`. Esto significa que estás eligiendo retener las primeras seis componentes principales generadas por PCA.\n",
    "\n",
    "   - Al igual que antes, se seleccionan todas las filas de `X_pca` y las primeras 6 columnas.\n",
    "\n",
    "   - Se imprime la dimensión de `X_pca_logistic6` usando `shape` para mostrar cuántas filas y columnas tiene.\n",
    "\n",
    "`Y = dataframe[\"comprar\"]`: En esta línea de código, se crea una serie o array `Y` que contiene la columna \"comprar\" del DataFrame `dataframe`. Suponiendo que `dataframe` es un conjunto de datos tabular que contiene características y una columna llamada \"comprar\", esta línea de código extrae la columna \"comprar\" y la almacena en la variable `Y`. Esto generalmente se hace para utilizarla como las etiquetas o clases que se deben predecir en un problema de clasificación.\n",
    "\n",
    "`X = df`: No se proporciona el contexto completo de este fragmento de código, pero parece que estás asignando el DataFrame completo `df` a la variable `X`. Esto puede significar que `df` contiene las características (variables independientes) que se utilizarán en el modelo de clasificación. Por lo tanto, `X` representa el conjunto de características del conjunto de datos."
   ]
  },
  {
   "cell_type": "code",
   "execution_count": 14,
   "id": "47d600e5",
   "metadata": {},
   "outputs": [
    {
     "name": "stdout",
     "output_type": "stream",
     "text": [
      "Dimensión para 5: (202, 5)\n",
      "Dimensión para 6: (202, 6)\n"
     ]
    }
   ],
   "source": [
    "X_pca_logistic5 = X_pca[:,0:5]\n",
    "print(f\"Dimensión para 5: {X_pca_logistic5.shape}\")\n",
    "\n",
    "X_pca_logistic6 = X_pca[:,0:6]\n",
    "print(f\"Dimensión para 6: {X_pca_logistic6.shape}\")\n",
    "\n",
    "Y = dataframe[\"comprar\"]\n",
    "\n",
    "X = df"
   ]
  },
  {
   "cell_type": "markdown",
   "id": "2689818f",
   "metadata": {},
   "source": [
    "# Creando modelo de regresión logística"
   ]
  },
  {
   "cell_type": "markdown",
   "id": "0cd32266",
   "metadata": {},
   "source": [
    "`model = linear_model.LogisticRegression(max_iter=1000)`: En esta línea de código, se crea una instancia de un modelo de Regresión Logística y se almacena en la variable `model`.\n",
    "\n",
    "   - `linear_model` es un módulo dentro de scikit-learn que contiene implementaciones de modelos de regresión lineal, incluyendo la Regresión Logística.\n",
    "\n",
    "   - `LogisticRegression` es la clase que representa el modelo de Regresión Logística en scikit-learn.\n",
    "\n",
    "   - `max_iter=1000` es un hiperparámetro que se establece en 1000. Indica el número máximo de iteraciones permitidas para que el algoritmo de optimización converja. En este caso, se ha establecido un límite de 1000 iteraciones para asegurarse de que el algoritmo converja en un número razonable de pasos.\n",
    "\n",
    "`model.fit(X, Y)`: En esta línea de código, se entrena el modelo de Regresión Logística utilizando el método `.fit()`.\n",
    "\n",
    "   - `X` representa el conjunto de características de entrenamiento. Estas son las variables independientes que se utilizan para predecir la variable dependiente `Y`.\n",
    "\n",
    "   - `Y` representa las etiquetas o valores objetivo que se están tratando de predecir. En el contexto de la Regresión Logística, `Y` generalmente consiste en etiquetas binarias (0 o 1) que representan dos clases diferentes.\n",
    "\n",
    "   - El método `.fit()` ajusta el modelo a los datos de entrenamiento `X` y `Y`. Durante este proceso, el modelo aprenderá los coeficientes y parámetros óptimos que minimizan la función de pérdida y permiten realizar predicciones basadas en las características de entrada."
   ]
  },
  {
   "cell_type": "code",
   "execution_count": 15,
   "id": "3aee730b",
   "metadata": {},
   "outputs": [
    {
     "data": {
      "text/html": [
       "<style>#sk-container-id-1 {color: black;}#sk-container-id-1 pre{padding: 0;}#sk-container-id-1 div.sk-toggleable {background-color: white;}#sk-container-id-1 label.sk-toggleable__label {cursor: pointer;display: block;width: 100%;margin-bottom: 0;padding: 0.3em;box-sizing: border-box;text-align: center;}#sk-container-id-1 label.sk-toggleable__label-arrow:before {content: \"▸\";float: left;margin-right: 0.25em;color: #696969;}#sk-container-id-1 label.sk-toggleable__label-arrow:hover:before {color: black;}#sk-container-id-1 div.sk-estimator:hover label.sk-toggleable__label-arrow:before {color: black;}#sk-container-id-1 div.sk-toggleable__content {max-height: 0;max-width: 0;overflow: hidden;text-align: left;background-color: #f0f8ff;}#sk-container-id-1 div.sk-toggleable__content pre {margin: 0.2em;color: black;border-radius: 0.25em;background-color: #f0f8ff;}#sk-container-id-1 input.sk-toggleable__control:checked~div.sk-toggleable__content {max-height: 200px;max-width: 100%;overflow: auto;}#sk-container-id-1 input.sk-toggleable__control:checked~label.sk-toggleable__label-arrow:before {content: \"▾\";}#sk-container-id-1 div.sk-estimator input.sk-toggleable__control:checked~label.sk-toggleable__label {background-color: #d4ebff;}#sk-container-id-1 div.sk-label input.sk-toggleable__control:checked~label.sk-toggleable__label {background-color: #d4ebff;}#sk-container-id-1 input.sk-hidden--visually {border: 0;clip: rect(1px 1px 1px 1px);clip: rect(1px, 1px, 1px, 1px);height: 1px;margin: -1px;overflow: hidden;padding: 0;position: absolute;width: 1px;}#sk-container-id-1 div.sk-estimator {font-family: monospace;background-color: #f0f8ff;border: 1px dotted black;border-radius: 0.25em;box-sizing: border-box;margin-bottom: 0.5em;}#sk-container-id-1 div.sk-estimator:hover {background-color: #d4ebff;}#sk-container-id-1 div.sk-parallel-item::after {content: \"\";width: 100%;border-bottom: 1px solid gray;flex-grow: 1;}#sk-container-id-1 div.sk-label:hover label.sk-toggleable__label {background-color: #d4ebff;}#sk-container-id-1 div.sk-serial::before {content: \"\";position: absolute;border-left: 1px solid gray;box-sizing: border-box;top: 0;bottom: 0;left: 50%;z-index: 0;}#sk-container-id-1 div.sk-serial {display: flex;flex-direction: column;align-items: center;background-color: white;padding-right: 0.2em;padding-left: 0.2em;position: relative;}#sk-container-id-1 div.sk-item {position: relative;z-index: 1;}#sk-container-id-1 div.sk-parallel {display: flex;align-items: stretch;justify-content: center;background-color: white;position: relative;}#sk-container-id-1 div.sk-item::before, #sk-container-id-1 div.sk-parallel-item::before {content: \"\";position: absolute;border-left: 1px solid gray;box-sizing: border-box;top: 0;bottom: 0;left: 50%;z-index: -1;}#sk-container-id-1 div.sk-parallel-item {display: flex;flex-direction: column;z-index: 1;position: relative;background-color: white;}#sk-container-id-1 div.sk-parallel-item:first-child::after {align-self: flex-end;width: 50%;}#sk-container-id-1 div.sk-parallel-item:last-child::after {align-self: flex-start;width: 50%;}#sk-container-id-1 div.sk-parallel-item:only-child::after {width: 0;}#sk-container-id-1 div.sk-dashed-wrapped {border: 1px dashed gray;margin: 0 0.4em 0.5em 0.4em;box-sizing: border-box;padding-bottom: 0.4em;background-color: white;}#sk-container-id-1 div.sk-label label {font-family: monospace;font-weight: bold;display: inline-block;line-height: 1.2em;}#sk-container-id-1 div.sk-label-container {text-align: center;}#sk-container-id-1 div.sk-container {/* jupyter's `normalize.less` sets `[hidden] { display: none; }` but bootstrap.min.css set `[hidden] { display: none !important; }` so we also need the `!important` here to be able to override the default hidden behavior on the sphinx rendered scikit-learn.org. See: https://github.com/scikit-learn/scikit-learn/issues/21755 */display: inline-block !important;position: relative;}#sk-container-id-1 div.sk-text-repr-fallback {display: none;}</style><div id=\"sk-container-id-1\" class=\"sk-top-container\"><div class=\"sk-text-repr-fallback\"><pre>LogisticRegression(max_iter=1000)</pre><b>In a Jupyter environment, please rerun this cell to show the HTML representation or trust the notebook. <br />On GitHub, the HTML representation is unable to render, please try loading this page with nbviewer.org.</b></div><div class=\"sk-container\" hidden><div class=\"sk-item\"><div class=\"sk-estimator sk-toggleable\"><input class=\"sk-toggleable__control sk-hidden--visually\" id=\"sk-estimator-id-1\" type=\"checkbox\" checked><label for=\"sk-estimator-id-1\" class=\"sk-toggleable__label sk-toggleable__label-arrow\">LogisticRegression</label><div class=\"sk-toggleable__content\"><pre>LogisticRegression(max_iter=1000)</pre></div></div></div></div></div>"
      ],
      "text/plain": [
       "LogisticRegression(max_iter=1000)"
      ]
     },
     "execution_count": 15,
     "metadata": {},
     "output_type": "execute_result"
    }
   ],
   "source": [
    "    model = linear_model.LogisticRegression(max_iter=1000)\n",
    "    model.fit(X,Y)"
   ]
  },
  {
   "cell_type": "markdown",
   "id": "40a25e0f",
   "metadata": {},
   "source": [
    "`predictions = model.predict(X)`: En esta línea de código, se utiliza el modelo de Regresión Logística (`model`) para hacer predicciones en un conjunto de datos de entrada `X`.\n",
    "\n",
    "   - `model` es el modelo de Regresión Logística que ha sido previamente entrenado.\n",
    "\n",
    "   - `X` representa el conjunto de características de entrada para el cual se desean hacer predicciones. Estas características son las variables independientes que se utilizarán para predecir las etiquetas.\n",
    "\n",
    "   - El método `.predict()` se aplica al modelo `model` y toma `X` como entrada. Devuelve un conjunto de predicciones calculadas por el modelo.\n",
    "\n",
    "`print(predictions, \"\\n Comparación con el original: \\n\", Y)`: En esta línea de código, se imprime el resultado de las predicciones junto con las etiquetas originales para hacer una comparación.\n",
    "\n",
    "   - `predictions` es el conjunto de predicciones calculadas por el modelo de Regresión Logística en la línea anterior.\n",
    "\n",
    "   - `\"\\n Comparación con el original: \\n\"` es simplemente una cadena de texto que se imprime como un mensaje para indicar que a continuación se mostrará la comparación entre las predicciones y las etiquetas originales.\n",
    "\n",
    "   - `Y` representa las etiquetas originales o verdaderas correspondientes al conjunto de datos `X`. Estas son las etiquetas reales que se intentaron predecir con el modelo.\n",
    "\n",
    "   - El resultado impreso mostrará las predicciones y las etiquetas originales en el mismo formato. Esto permitirá ver cómo se comparan las predicciones generadas por el modelo con las etiquetas reales. Por ejemplo, si se trata de un problema de clasificación binaria, las predicciones y las etiquetas originales serán una serie de 0s y 1s, y podrás ver cuántas de ellas coinciden o difieren."
   ]
  },
  {
   "cell_type": "code",
   "execution_count": 16,
   "id": "aeb6a5e8",
   "metadata": {},
   "outputs": [
    {
     "name": "stdout",
     "output_type": "stream",
     "text": [
      "[1 0 1 0 1 1 1 0 1 1 0 0 1 1 0 1 1 0 0 1 1 1 0 1 1 0 0 0 1 1 1 0 0 0 1 0 0\n",
      " 1 1 0 0 1 0 0 0 1 1 1 1 0 1 0 0 0 0 1 0 0 0 0 1 0 0 0 0 0 0 0 0 1 1 0 0 0\n",
      " 0 0 0 0 0 0 0 0 0 0 1 1 0 1 0 0 0 0 0 0 0 1 0 0 0 0 0 1 0 1 1 0 0 1 0 1 1\n",
      " 0 1 0 1 1 1 1 0 0 0 1 1 0 1 1 0 1 1 0 1 0 0 0 0 0 0 1 1 0 1 1 1 1 0 0 0 1\n",
      " 0 0 0 0 1 1 0 0 0 0 0 0 0 0 0 0 0 0 0 0 0 0 0 0 0 0 0 0 0 0 1 0 0 0 0 0 0\n",
      " 1 0 0 0 0 0 0 0 0 0 1 0 0 0 0 0 0] \n",
      " Comparación con el original: \n",
      " 0      1\n",
      "1      0\n",
      "2      1\n",
      "3      0\n",
      "4      1\n",
      "      ..\n",
      "197    0\n",
      "198    0\n",
      "199    0\n",
      "200    0\n",
      "201    0\n",
      "Name: comprar, Length: 202, dtype: int64\n"
     ]
    }
   ],
   "source": [
    "predictions = model.predict(X)\n",
    "print(predictions,\"\\n Comparación con el original: \\n\",Y)"
   ]
  },
  {
   "cell_type": "code",
   "execution_count": 19,
   "id": "c97cbb02",
   "metadata": {},
   "outputs": [
    {
     "data": {
      "text/html": [
       "<style>#sk-container-id-2 {color: black;}#sk-container-id-2 pre{padding: 0;}#sk-container-id-2 div.sk-toggleable {background-color: white;}#sk-container-id-2 label.sk-toggleable__label {cursor: pointer;display: block;width: 100%;margin-bottom: 0;padding: 0.3em;box-sizing: border-box;text-align: center;}#sk-container-id-2 label.sk-toggleable__label-arrow:before {content: \"▸\";float: left;margin-right: 0.25em;color: #696969;}#sk-container-id-2 label.sk-toggleable__label-arrow:hover:before {color: black;}#sk-container-id-2 div.sk-estimator:hover label.sk-toggleable__label-arrow:before {color: black;}#sk-container-id-2 div.sk-toggleable__content {max-height: 0;max-width: 0;overflow: hidden;text-align: left;background-color: #f0f8ff;}#sk-container-id-2 div.sk-toggleable__content pre {margin: 0.2em;color: black;border-radius: 0.25em;background-color: #f0f8ff;}#sk-container-id-2 input.sk-toggleable__control:checked~div.sk-toggleable__content {max-height: 200px;max-width: 100%;overflow: auto;}#sk-container-id-2 input.sk-toggleable__control:checked~label.sk-toggleable__label-arrow:before {content: \"▾\";}#sk-container-id-2 div.sk-estimator input.sk-toggleable__control:checked~label.sk-toggleable__label {background-color: #d4ebff;}#sk-container-id-2 div.sk-label input.sk-toggleable__control:checked~label.sk-toggleable__label {background-color: #d4ebff;}#sk-container-id-2 input.sk-hidden--visually {border: 0;clip: rect(1px 1px 1px 1px);clip: rect(1px, 1px, 1px, 1px);height: 1px;margin: -1px;overflow: hidden;padding: 0;position: absolute;width: 1px;}#sk-container-id-2 div.sk-estimator {font-family: monospace;background-color: #f0f8ff;border: 1px dotted black;border-radius: 0.25em;box-sizing: border-box;margin-bottom: 0.5em;}#sk-container-id-2 div.sk-estimator:hover {background-color: #d4ebff;}#sk-container-id-2 div.sk-parallel-item::after {content: \"\";width: 100%;border-bottom: 1px solid gray;flex-grow: 1;}#sk-container-id-2 div.sk-label:hover label.sk-toggleable__label {background-color: #d4ebff;}#sk-container-id-2 div.sk-serial::before {content: \"\";position: absolute;border-left: 1px solid gray;box-sizing: border-box;top: 0;bottom: 0;left: 50%;z-index: 0;}#sk-container-id-2 div.sk-serial {display: flex;flex-direction: column;align-items: center;background-color: white;padding-right: 0.2em;padding-left: 0.2em;position: relative;}#sk-container-id-2 div.sk-item {position: relative;z-index: 1;}#sk-container-id-2 div.sk-parallel {display: flex;align-items: stretch;justify-content: center;background-color: white;position: relative;}#sk-container-id-2 div.sk-item::before, #sk-container-id-2 div.sk-parallel-item::before {content: \"\";position: absolute;border-left: 1px solid gray;box-sizing: border-box;top: 0;bottom: 0;left: 50%;z-index: -1;}#sk-container-id-2 div.sk-parallel-item {display: flex;flex-direction: column;z-index: 1;position: relative;background-color: white;}#sk-container-id-2 div.sk-parallel-item:first-child::after {align-self: flex-end;width: 50%;}#sk-container-id-2 div.sk-parallel-item:last-child::after {align-self: flex-start;width: 50%;}#sk-container-id-2 div.sk-parallel-item:only-child::after {width: 0;}#sk-container-id-2 div.sk-dashed-wrapped {border: 1px dashed gray;margin: 0 0.4em 0.5em 0.4em;box-sizing: border-box;padding-bottom: 0.4em;background-color: white;}#sk-container-id-2 div.sk-label label {font-family: monospace;font-weight: bold;display: inline-block;line-height: 1.2em;}#sk-container-id-2 div.sk-label-container {text-align: center;}#sk-container-id-2 div.sk-container {/* jupyter's `normalize.less` sets `[hidden] { display: none; }` but bootstrap.min.css set `[hidden] { display: none !important; }` so we also need the `!important` here to be able to override the default hidden behavior on the sphinx rendered scikit-learn.org. See: https://github.com/scikit-learn/scikit-learn/issues/21755 */display: inline-block !important;position: relative;}#sk-container-id-2 div.sk-text-repr-fallback {display: none;}</style><div id=\"sk-container-id-2\" class=\"sk-top-container\"><div class=\"sk-text-repr-fallback\"><pre>LogisticRegression()</pre><b>In a Jupyter environment, please rerun this cell to show the HTML representation or trust the notebook. <br />On GitHub, the HTML representation is unable to render, please try loading this page with nbviewer.org.</b></div><div class=\"sk-container\" hidden><div class=\"sk-item\"><div class=\"sk-estimator sk-toggleable\"><input class=\"sk-toggleable__control sk-hidden--visually\" id=\"sk-estimator-id-2\" type=\"checkbox\" checked><label for=\"sk-estimator-id-2\" class=\"sk-toggleable__label sk-toggleable__label-arrow\">LogisticRegression</label><div class=\"sk-toggleable__content\"><pre>LogisticRegression()</pre></div></div></div></div></div>"
      ],
      "text/plain": [
       "LogisticRegression()"
      ]
     },
     "execution_count": 19,
     "metadata": {},
     "output_type": "execute_result"
    }
   ],
   "source": [
    "model5 = linear_model.LogisticRegression()\n",
    "model5.fit(X_pca_logistic5,Y)"
   ]
  },
  {
   "cell_type": "code",
   "execution_count": 21,
   "id": "ecbfa8d8",
   "metadata": {},
   "outputs": [
    {
     "name": "stdout",
     "output_type": "stream",
     "text": [
      "[0 1 1 1 0 1 0 0 0 1 0 0 1 1 1 0 1 1 0 1 0 1 0 1 0 0 0 0 1 1 1 0 0 0 0 1 0\n",
      " 1 0 1 0 0 0 1 0 0 0 0 1 0 1 0 0 0 0 0 0 0 0 0 1 0 0 0 0 0 0 0 0 0 0 0 0 1\n",
      " 0 0 0 1 1 0 0 0 0 0 0 1 0 0 0 0 0 0 1 0 0 1 0 0 1 0 0 1 1 1 0 0 0 1 0 0 1\n",
      " 1 0 0 0 1 1 1 0 0 0 1 1 0 0 1 1 0 1 0 1 0 0 0 0 0 0 0 1 0 1 0 0 1 0 0 0 1\n",
      " 0 0 0 0 1 0 0 0 0 0 0 0 0 0 0 1 0 1 0 0 0 0 0 0 0 0 0 0 0 0 0 0 0 0 0 0 0\n",
      " 1 0 0 0 0 0 0 0 0 0 1 0 0 1 0 0 0] \n",
      " Comparación con el original: \n",
      " 0      1\n",
      "1      0\n",
      "2      1\n",
      "3      0\n",
      "4      1\n",
      "      ..\n",
      "197    0\n",
      "198    0\n",
      "199    0\n",
      "200    0\n",
      "201    0\n",
      "Name: comprar, Length: 202, dtype: int64\n"
     ]
    }
   ],
   "source": [
    "predictions = model5.predict(X_pca_logistic5)\n",
    "print(predictions,\"\\n Comparación con el original: \\n\",Y)"
   ]
  },
  {
   "cell_type": "code",
   "execution_count": 20,
   "id": "a15295f9",
   "metadata": {},
   "outputs": [
    {
     "data": {
      "text/html": [
       "<style>#sk-container-id-3 {color: black;}#sk-container-id-3 pre{padding: 0;}#sk-container-id-3 div.sk-toggleable {background-color: white;}#sk-container-id-3 label.sk-toggleable__label {cursor: pointer;display: block;width: 100%;margin-bottom: 0;padding: 0.3em;box-sizing: border-box;text-align: center;}#sk-container-id-3 label.sk-toggleable__label-arrow:before {content: \"▸\";float: left;margin-right: 0.25em;color: #696969;}#sk-container-id-3 label.sk-toggleable__label-arrow:hover:before {color: black;}#sk-container-id-3 div.sk-estimator:hover label.sk-toggleable__label-arrow:before {color: black;}#sk-container-id-3 div.sk-toggleable__content {max-height: 0;max-width: 0;overflow: hidden;text-align: left;background-color: #f0f8ff;}#sk-container-id-3 div.sk-toggleable__content pre {margin: 0.2em;color: black;border-radius: 0.25em;background-color: #f0f8ff;}#sk-container-id-3 input.sk-toggleable__control:checked~div.sk-toggleable__content {max-height: 200px;max-width: 100%;overflow: auto;}#sk-container-id-3 input.sk-toggleable__control:checked~label.sk-toggleable__label-arrow:before {content: \"▾\";}#sk-container-id-3 div.sk-estimator input.sk-toggleable__control:checked~label.sk-toggleable__label {background-color: #d4ebff;}#sk-container-id-3 div.sk-label input.sk-toggleable__control:checked~label.sk-toggleable__label {background-color: #d4ebff;}#sk-container-id-3 input.sk-hidden--visually {border: 0;clip: rect(1px 1px 1px 1px);clip: rect(1px, 1px, 1px, 1px);height: 1px;margin: -1px;overflow: hidden;padding: 0;position: absolute;width: 1px;}#sk-container-id-3 div.sk-estimator {font-family: monospace;background-color: #f0f8ff;border: 1px dotted black;border-radius: 0.25em;box-sizing: border-box;margin-bottom: 0.5em;}#sk-container-id-3 div.sk-estimator:hover {background-color: #d4ebff;}#sk-container-id-3 div.sk-parallel-item::after {content: \"\";width: 100%;border-bottom: 1px solid gray;flex-grow: 1;}#sk-container-id-3 div.sk-label:hover label.sk-toggleable__label {background-color: #d4ebff;}#sk-container-id-3 div.sk-serial::before {content: \"\";position: absolute;border-left: 1px solid gray;box-sizing: border-box;top: 0;bottom: 0;left: 50%;z-index: 0;}#sk-container-id-3 div.sk-serial {display: flex;flex-direction: column;align-items: center;background-color: white;padding-right: 0.2em;padding-left: 0.2em;position: relative;}#sk-container-id-3 div.sk-item {position: relative;z-index: 1;}#sk-container-id-3 div.sk-parallel {display: flex;align-items: stretch;justify-content: center;background-color: white;position: relative;}#sk-container-id-3 div.sk-item::before, #sk-container-id-3 div.sk-parallel-item::before {content: \"\";position: absolute;border-left: 1px solid gray;box-sizing: border-box;top: 0;bottom: 0;left: 50%;z-index: -1;}#sk-container-id-3 div.sk-parallel-item {display: flex;flex-direction: column;z-index: 1;position: relative;background-color: white;}#sk-container-id-3 div.sk-parallel-item:first-child::after {align-self: flex-end;width: 50%;}#sk-container-id-3 div.sk-parallel-item:last-child::after {align-self: flex-start;width: 50%;}#sk-container-id-3 div.sk-parallel-item:only-child::after {width: 0;}#sk-container-id-3 div.sk-dashed-wrapped {border: 1px dashed gray;margin: 0 0.4em 0.5em 0.4em;box-sizing: border-box;padding-bottom: 0.4em;background-color: white;}#sk-container-id-3 div.sk-label label {font-family: monospace;font-weight: bold;display: inline-block;line-height: 1.2em;}#sk-container-id-3 div.sk-label-container {text-align: center;}#sk-container-id-3 div.sk-container {/* jupyter's `normalize.less` sets `[hidden] { display: none; }` but bootstrap.min.css set `[hidden] { display: none !important; }` so we also need the `!important` here to be able to override the default hidden behavior on the sphinx rendered scikit-learn.org. See: https://github.com/scikit-learn/scikit-learn/issues/21755 */display: inline-block !important;position: relative;}#sk-container-id-3 div.sk-text-repr-fallback {display: none;}</style><div id=\"sk-container-id-3\" class=\"sk-top-container\"><div class=\"sk-text-repr-fallback\"><pre>LogisticRegression()</pre><b>In a Jupyter environment, please rerun this cell to show the HTML representation or trust the notebook. <br />On GitHub, the HTML representation is unable to render, please try loading this page with nbviewer.org.</b></div><div class=\"sk-container\" hidden><div class=\"sk-item\"><div class=\"sk-estimator sk-toggleable\"><input class=\"sk-toggleable__control sk-hidden--visually\" id=\"sk-estimator-id-3\" type=\"checkbox\" checked><label for=\"sk-estimator-id-3\" class=\"sk-toggleable__label sk-toggleable__label-arrow\">LogisticRegression</label><div class=\"sk-toggleable__content\"><pre>LogisticRegression()</pre></div></div></div></div></div>"
      ],
      "text/plain": [
       "LogisticRegression()"
      ]
     },
     "execution_count": 20,
     "metadata": {},
     "output_type": "execute_result"
    }
   ],
   "source": [
    "model6 = linear_model.LogisticRegression()\n",
    "model6.fit(X_pca_logistic6,Y)"
   ]
  },
  {
   "cell_type": "code",
   "execution_count": 47,
   "id": "eb33b431",
   "metadata": {},
   "outputs": [
    {
     "name": "stdout",
     "output_type": "stream",
     "text": [
      "[1 1 1 1 0 1 1 0 0 1 0 0 1 1 0 0 1 0 0 1 0 1 0 1 0 0 1 1 1 1 1 0 0 0 0 0 0\n",
      " 1 1 1 0 0 0 1 0 0 0 1 0 0 1 0 0 0 0 1 0 0 0 0 1 0 0 0 0 0 0 0 0 0 0 0 0 1\n",
      " 0 0 0 1 1 0 0 0 0 0 1 1 0 0 0 0 0 0 0 0 0 1 0 0 1 0 0 0 0 1 0 0 0 1 0 1 1\n",
      " 0 0 0 1 1 1 1 0 0 0 1 1 0 0 1 0 1 1 0 1 0 0 0 0 0 0 1 1 0 1 1 0 1 0 0 0 1\n",
      " 0 0 0 0 0 0 0 0 0 0 0 0 0 0 0 1 0 1 1 0 0 0 0 0 0 0 0 0 0 0 0 0 0 0 0 1 0\n",
      " 1 0 0 0 0 0 0 0 0 0 1 0 0 0 0 0 0] \n",
      " Comparación con el original: \n",
      " 0      1\n",
      "1      0\n",
      "2      1\n",
      "3      0\n",
      "4      1\n",
      "      ..\n",
      "197    0\n",
      "198    0\n",
      "199    0\n",
      "200    0\n",
      "201    0\n",
      "Name: comprar, Length: 202, dtype: int64\n"
     ]
    }
   ],
   "source": [
    "predictions6 = model6.predict(X_pca_logistic6)\n",
    "print(predictions6,\"\\n Comparación con el original: \\n\",Y)"
   ]
  },
  {
   "cell_type": "markdown",
   "id": "9142f892",
   "metadata": {},
   "source": [
    "- `model.score(X, Y)`: En esta línea de código, `model` es el modelo de Regresión Logística previamente entrenado y `X` representa el conjunto de características de entrada. `Y` representa las etiquetas verdaderas o reales correspondientes a las observaciones en `X`.\n",
    "\n",
    "- El método `.score()` se utiliza para evaluar el modelo en función de cuántas predicciones acertadas realiza en comparación con las etiquetas verdaderas. Específicamente, este método calcula la precisión del modelo en el conjunto de datos proporcionado. La precisión es la proporción de ejemplos clasificados correctamente sobre el total de ejemplos en el conjunto de datos.\n",
    "\n",
    "- El resultado devuelto por `.score()` es un valor numérico que representa la precisión del modelo en una escala de 0 a 1, donde 1 indica una precisión perfecta (todas las predicciones son correctas) y 0 indica una precisión nula (ninguna predicción es correcta)."
   ]
  },
  {
   "cell_type": "code",
   "execution_count": 24,
   "id": "1f918237",
   "metadata": {},
   "outputs": [
    {
     "data": {
      "text/plain": [
       "0.9554455445544554"
      ]
     },
     "execution_count": 24,
     "metadata": {},
     "output_type": "execute_result"
    }
   ],
   "source": [
    "model.score(X,Y)"
   ]
  },
  {
   "cell_type": "code",
   "execution_count": 26,
   "id": "eaf138c9",
   "metadata": {},
   "outputs": [
    {
     "data": {
      "text/plain": [
       "0.7920792079207921"
      ]
     },
     "execution_count": 26,
     "metadata": {},
     "output_type": "execute_result"
    }
   ],
   "source": [
    "model5.score(X_pca_logistic5,Y)"
   ]
  },
  {
   "cell_type": "code",
   "execution_count": 27,
   "id": "af0fb53e",
   "metadata": {},
   "outputs": [
    {
     "data": {
      "text/plain": [
       "0.8316831683168316"
      ]
     },
     "execution_count": 27,
     "metadata": {},
     "output_type": "execute_result"
    }
   ],
   "source": [
    "model6.score(X_pca_logistic6,Y)"
   ]
  },
  {
   "cell_type": "markdown",
   "id": "64a71c2e",
   "metadata": {},
   "source": [
    "# Validación del modelo"
   ]
  },
  {
   "cell_type": "markdown",
   "id": "c2c02a0a",
   "metadata": {},
   "source": [
    "1. `validation_size = 0.20`: Aquí se define la proporción del conjunto de datos original que se utilizará como conjunto de validación. En este caso, `validation_size` se establece en 0.20, lo que significa que el 20% del conjunto de datos se reservará para el conjunto de validación, y el 80% restante se utilizará como conjunto de entrenamiento. Puedes ajustar este valor según tus necesidades, dependiendo de cuántos datos desees reservar para la validación.\n",
    "\n",
    "2. `seed = 7`: Se establece una semilla (seed) para la generación de números aleatorios. Esto asegura que la división del conjunto de datos sea reproducible. Siempre que uses la misma semilla, obtendrás la misma división del conjunto de datos cada vez que ejecutes el código. Esto es útil para garantizar la consistencia en los resultados, especialmente cuando se trabaja con modelos de aprendizaje automático que dependen de la aleatoriedad.\n",
    "\n",
    "3. `X_train, X_validation, Y_train, Y_validation = model_selection.train_test_split(X, Y, test_size=validation_size, random_state=seed)`: En esta línea de código, se aplica la función `train_test_split` para dividir el conjunto de datos en conjuntos de entrenamiento y validación.\n",
    "\n",
    "   - `X` representa el conjunto de características del conjunto de datos original.\n",
    "\n",
    "   - `Y` representa las etiquetas o valores objetivo correspondientes al conjunto de datos original.\n",
    "\n",
    "   - `test_size=validation_size` indica que el 20% del conjunto de datos se utilizará como conjunto de validación, como se especificó anteriormente en `validation_size`.\n",
    "\n",
    "   - `random_state=seed` asegura que la división sea reproducible, ya que utiliza la semilla (`seed`) establecida previamente.\n",
    "\n",
    "   - `X_train` y `Y_train` serán los conjuntos de características y etiquetas correspondientes al conjunto de entrenamiento.\n",
    "\n",
    "   - `X_validation` y `Y_validation` serán los conjuntos de características y etiquetas correspondientes al conjunto de validación."
   ]
  },
  {
   "cell_type": "code",
   "execution_count": 28,
   "id": "e4cd6e13",
   "metadata": {},
   "outputs": [],
   "source": [
    "validation_size = 0.20\n",
    "seed = 7\n",
    "X_train, X_validation, Y_train, Y_validation = model_selection.train_test_split(X, Y, test_size=validation_size, random_state=seed)\n"
   ]
  },
  {
   "cell_type": "code",
   "execution_count": 29,
   "id": "a071162c",
   "metadata": {},
   "outputs": [],
   "source": [
    "X_train5, X_validation5, Y_train5, Y_validation5 = model_selection.train_test_split(X_pca_logistic5, Y, test_size=validation_size, random_state=seed)"
   ]
  },
  {
   "cell_type": "code",
   "execution_count": 30,
   "id": "0ad06aa5",
   "metadata": {},
   "outputs": [],
   "source": [
    "X_train6, X_validation6, Y_train6, Y_validation6 = model_selection.train_test_split(X_pca_logistic6, Y, test_size=validation_size, random_state=seed)"
   ]
  },
  {
   "cell_type": "markdown",
   "id": "9d9d8a06",
   "metadata": {},
   "source": [
    "1. `name = 'Logistic Regression'`: En esta línea, se crea una variable llamada `name` que almacena el nombre del modelo, que en este caso es \"Logistic Regression\". Esta variable se usará posteriormente para etiquetar los resultados de la evaluación.\n",
    "\n",
    "2. `kfold = model_selection.KFold(n_splits=10, shuffle=True, random_state=seed)`: En esta línea de código, se crea un objeto `kfold` que define cómo se dividirá el conjunto de entrenamiento para realizar la validación cruzada.\n",
    "\n",
    "   - `model_selection` es un módulo de scikit-learn que contiene funciones relacionadas con la selección de modelos y la evaluación.\n",
    "\n",
    "   - `KFold` es una clase que realiza una división del conjunto de entrenamiento en k partes (en este caso, 10 partes), lo que se conoce como validación cruzada de k-fold.\n",
    "\n",
    "   - `n_splits=10` indica que se realizarán 10 divisiones en el conjunto de entrenamiento para la validación cruzada.\n",
    "\n",
    "   - `shuffle=True` significa que los datos se barajarán aleatoriamente antes de realizar las divisiones en cada iteración de la validación cruzada. Esto es útil para evitar cualquier sesgo si los datos están ordenados de alguna manera.\n",
    "\n",
    "   - `random_state=seed` establece una semilla (seed) para la generación de números aleatorios. Esto asegura que las divisiones sean reproducibles, es decir, que si ejecutas el código nuevamente con la misma semilla, obtendrás las mismas divisiones.\n",
    "\n",
    "3. `cv_results = model_selection.cross_val_score(model, X_train, Y_train, cv=kfold, scoring='accuracy')`: En esta línea, se utiliza la función `cross_val_score` para realizar la validación cruzada del modelo de Regresión Logística.\n",
    "\n",
    "   - `model` es el modelo de Regresión Logística que se está evaluando.\n",
    "\n",
    "   - `X_train` es el conjunto de características de entrenamiento.\n",
    "\n",
    "   - `Y_train` es el conjunto de etiquetas de entrenamiento.\n",
    "\n",
    "   - `cv=kfold` especifica que se utilizará el objeto `kfold` que creamos anteriormente para dividir el conjunto de entrenamiento en 10 folds.\n",
    "\n",
    "   - `scoring='accuracy'` indica que la métrica de evaluación que se utilizará es la precisión (accuracy), que mide la proporción de ejemplos clasificados correctamente.\n",
    "\n",
    "   - El resultado de esta línea de código, `cv_results`, es una lista que contiene la precisión calculada en cada una de las 10 iteraciones de validación cruzada.\n",
    "\n",
    "4. `msg = \"%s: %f (%f)\" % (name, cv_results.mean(), cv_results.std())`: En esta línea de código, se crea una cadena de texto (`msg`) que resume los resultados de la validación cruzada.\n",
    "\n",
    "   - `%s` se sustituirá por el valor de `name`, que es \"Logistic Regression\".\n",
    "\n",
    "   - `%f` se sustituirá por el valor de `cv_results.mean()`, que es la precisión promedio obtenida en las 10 iteraciones de validación cruzada.\n",
    "\n",
    "   - `cv_results.std()` calcula la desviación estándar de las precisiones obtenidas en las 10 iteraciones y se sustituirá en el lugar de `%f`.\n",
    "\n",
    "   - El resultado es una cadena de texto que incluye el nombre del modelo, la precisión promedio y la desviación estándar.\n",
    "\n",
    "5. `print(msg)`: Finalmente, se imprime la cadena de texto `msg`, que muestra el resumen de la evaluación del modelo de Regresión Logística utilizando validación cruzada. Esto proporciona información sobre el rendimiento esperado del modelo en datos no vistos y la variabilidad en las precisiones obtenidas en las diferentes divisiones del conjunto de entrenamiento."
   ]
  },
  {
   "cell_type": "code",
   "execution_count": 31,
   "id": "9319d9f3",
   "metadata": {},
   "outputs": [
    {
     "name": "stdout",
     "output_type": "stream",
     "text": [
      "Logistic Regression: 0.931985 (0.075779)\n"
     ]
    }
   ],
   "source": [
    "name='Logistic Regression'\n",
    "kfold = model_selection.KFold(n_splits=10, shuffle=True, random_state=seed)\n",
    "cv_results = model_selection.cross_val_score(model, X_train, Y_train, cv=kfold, scoring='accuracy')\n",
    "msg = \"%s: %f (%f)\" % (name, cv_results.mean(), cv_results.std())\n",
    "print(msg)"
   ]
  },
  {
   "cell_type": "code",
   "execution_count": 32,
   "id": "1900f8b5",
   "metadata": {},
   "outputs": [
    {
     "name": "stdout",
     "output_type": "stream",
     "text": [
      "Logistic Regression: 0.739338 (0.120557)\n"
     ]
    }
   ],
   "source": [
    "kfold = model_selection.KFold(n_splits=10, shuffle=True, random_state=seed)\n",
    "cv_results = model_selection.cross_val_score(model5, X_train5, Y_train5, cv=kfold, scoring='accuracy')\n",
    "msg = \"%s: %f (%f)\" % (name, cv_results.mean(), cv_results.std())\n",
    "print(msg)"
   ]
  },
  {
   "cell_type": "code",
   "execution_count": 66,
   "id": "b4448884",
   "metadata": {},
   "outputs": [
    {
     "name": "stdout",
     "output_type": "stream",
     "text": [
      "Logistic Regression: 0.801471 (0.060186)\n"
     ]
    }
   ],
   "source": [
    "kfold = model_selection.KFold(n_splits=10, shuffle=True, random_state=seed)\n",
    "cv_results = model_selection.cross_val_score(model6, X_train6, Y_train6, cv=kfold, scoring='accuracy')\n",
    "msg = \"%s: %f (%f)\" % (name, cv_results.mean(), cv_results.std())\n",
    "print(msg)"
   ]
  },
  {
   "cell_type": "markdown",
   "id": "db8df50a",
   "metadata": {},
   "source": [
    "# Evaluación del modelo con accuuracy y matriz de confusión\n",
    "1. `predictions = model.predict(X_validation)`: En esta línea de código, se hace una predicción utilizando el modelo de clasificación entrenado (`model`) en un conjunto de datos de validación (`X_validation`). \n",
    "\n",
    "   - `model` representa el modelo de clasificación que has entrenado previamente, y se utiliza para predecir las etiquetas de clase para los ejemplos en el conjunto de datos de validación.\n",
    "\n",
    "   - `X_validation` es el conjunto de datos de validación que contiene los ejemplos de entrada para los cuales deseas obtener predicciones.\n",
    "\n",
    "   - El resultado de esta línea de código es un conjunto de predicciones (`predictions`) que contiene las etiquetas de clase predichas por el modelo para cada ejemplo en `X_validation`.\n",
    "\n",
    "2. `print(accuracy_score(Y_validation, predictions))`: En esta línea de código, se calcula y se imprime la precisión del modelo en el conjunto de datos de validación.\n",
    "\n",
    "   - `Y_validation` es el conjunto de etiquetas verdaderas o reales (ground truth) que corresponden a las clases reales a las que pertenecen los ejemplos en `X_validation`.\n",
    "\n",
    "   - `predictions` es el conjunto de predicciones generado por el modelo para los ejemplos en `X_validation`.\n",
    "\n",
    "   - `accuracy_score` es una función que calcula la precisión del modelo, que es la proporción de ejemplos clasificados correctamente sobre el total de ejemplos en el conjunto de validación. La precisión se calcula comparando las etiquetas verdaderas en `Y_validation` con las etiquetas predichas en `predictions`.\n",
    "\n",
    "3. `print(confusion_matrix(Y_validation, predictions))`: En esta línea de código, se calcula y se imprime una matriz de confusión que muestra cómo se han clasificado los ejemplos en el conjunto de datos de validación.\n",
    "\n",
    "   - `Y_validation` es el conjunto de etiquetas verdaderas o reales (ground truth) del conjunto de validación.\n",
    "\n",
    "   - `predictions` es el conjunto de predicciones generadas por el modelo para los ejemplos en `X_validation`.\n",
    "\n",
    "   - `confusion_matrix` es una función que calcula la matriz de confusión, que es una tabla que muestra el número de ejemplos clasificados correctamente y los errores de clasificación para cada clase del problema de clasificación. La matriz de confusión es útil para comprender en qué clases el modelo tiene dificultades y cómo está cometiendo errores.\n",
    "\n",
    "Estas métricas te ayudarán a comprender el rendimiento y los errores del modelo en el conjunto de datos de validación."
   ]
  },
  {
   "cell_type": "code",
   "execution_count": 65,
   "id": "9d73581f",
   "metadata": {},
   "outputs": [
    {
     "name": "stdout",
     "output_type": "stream",
     "text": [
      "0.975609756097561\n"
     ]
    }
   ],
   "source": [
    "predictions = model.predict(X_validation)\n",
    "print(accuracy_score(Y_validation, predictions))"
   ]
  },
  {
   "cell_type": "code",
   "execution_count": 42,
   "id": "939c8b88",
   "metadata": {},
   "outputs": [
    {
     "name": "stdout",
     "output_type": "stream",
     "text": [
      "[[28  0]\n",
      " [ 1 12]]\n"
     ]
    }
   ],
   "source": [
    "print(confusion_matrix(Y_validation, predictions))"
   ]
  },
  {
   "cell_type": "code",
   "execution_count": 36,
   "id": "da56e988",
   "metadata": {},
   "outputs": [
    {
     "name": "stdout",
     "output_type": "stream",
     "text": [
      "0.8292682926829268\n"
     ]
    }
   ],
   "source": [
    "predictions5 = model5.predict(X_validation5)\n",
    "print(accuracy_score(Y_validation5, predictions5))"
   ]
  },
  {
   "cell_type": "code",
   "execution_count": 37,
   "id": "dbc3bf7b",
   "metadata": {},
   "outputs": [
    {
     "name": "stdout",
     "output_type": "stream",
     "text": [
      "[[27  1]\n",
      " [ 6  7]]\n"
     ]
    }
   ],
   "source": [
    "print(confusion_matrix(Y_validation5, predictions5))"
   ]
  },
  {
   "cell_type": "code",
   "execution_count": 38,
   "id": "ae4d8a47",
   "metadata": {},
   "outputs": [
    {
     "name": "stdout",
     "output_type": "stream",
     "text": [
      "0.8780487804878049\n"
     ]
    }
   ],
   "source": [
    "predictions6 = model6.predict(X_validation6)\n",
    "print(accuracy_score(Y_validation6, predictions6))"
   ]
  },
  {
   "cell_type": "code",
   "execution_count": 39,
   "id": "946a9f0b",
   "metadata": {},
   "outputs": [
    {
     "name": "stdout",
     "output_type": "stream",
     "text": [
      "[[28  0]\n",
      " [ 5  8]]\n"
     ]
    }
   ],
   "source": [
    "print(confusion_matrix(Y_validation6, predictions6))"
   ]
  },
  {
   "cell_type": "markdown",
   "id": "18eecade",
   "metadata": {},
   "source": [
    "# Evaluacion del modelo con classification_report\n",
    "\n",
    "`classification_report(Y_validation#, predictions#)`: Esta es la llamada a la función `classification_report`. Esta función es comúnmente utilizada en el contexto de la evaluación de modelos de clasificación en aprendizaje automático. Toma dos argumentos principales:\n",
    "\n",
    "   - `Y_validation#`: Este es el conjunto de etiquetas verdaderas o reales (ground truth) que se compara con las predicciones generadas por el modelo. Por lo general, contiene las etiquetas reales de un conjunto de datos de prueba o validación. Cada etiqueta en `Y_validation#` corresponde a la clase real a la que pertenece un ejemplo del conjunto de datos.\n",
    "\n",
    "   - `prediction#6`: Este es el conjunto de predicciones generadas por un modelo de clasificación. Estas predicciones son las etiquetas que el modelo ha asignado a los ejemplos del conjunto de datos de prueba o validación. Por lo general, se obtienen a través de la aplicación del modelo a los datos de entrada.\n",
    "\n",
    "`print(...)`: Esta es una función en Python que se utiliza para imprimir el resultado de la función `classification_report` en la consola o en la salida estándar para que puedas ver y analizar los resultados.\n",
    "\n",
    "**Aplicación a los tres modelos creados:**"
   ]
  },
  {
   "cell_type": "code",
   "execution_count": 44,
   "id": "7c825377",
   "metadata": {},
   "outputs": [
    {
     "name": "stdout",
     "output_type": "stream",
     "text": [
      "              precision    recall  f1-score   support\n",
      "\n",
      "           0       0.97      1.00      0.98        28\n",
      "           1       1.00      0.92      0.96        13\n",
      "\n",
      "    accuracy                           0.98        41\n",
      "   macro avg       0.98      0.96      0.97        41\n",
      "weighted avg       0.98      0.98      0.98        41\n",
      "\n"
     ]
    }
   ],
   "source": [
    "print(classification_report(Y_validation, predictions))"
   ]
  },
  {
   "cell_type": "code",
   "execution_count": 40,
   "id": "8f24ed43",
   "metadata": {},
   "outputs": [
    {
     "name": "stdout",
     "output_type": "stream",
     "text": [
      "              precision    recall  f1-score   support\n",
      "\n",
      "           0       0.82      0.96      0.89        28\n",
      "           1       0.88      0.54      0.67        13\n",
      "\n",
      "    accuracy                           0.83        41\n",
      "   macro avg       0.85      0.75      0.78        41\n",
      "weighted avg       0.84      0.83      0.82        41\n",
      "\n"
     ]
    }
   ],
   "source": [
    "print(classification_report(Y_validation5, predictions5))"
   ]
  },
  {
   "cell_type": "code",
   "execution_count": 43,
   "id": "2b2a448d",
   "metadata": {},
   "outputs": [
    {
     "name": "stdout",
     "output_type": "stream",
     "text": [
      "              precision    recall  f1-score   support\n",
      "\n",
      "           0       0.85      1.00      0.92        28\n",
      "           1       1.00      0.62      0.76        13\n",
      "\n",
      "    accuracy                           0.88        41\n",
      "   macro avg       0.92      0.81      0.84        41\n",
      "weighted avg       0.90      0.88      0.87        41\n",
      "\n"
     ]
    }
   ],
   "source": [
    "print(classification_report(Y_validation6, predictions6))"
   ]
  },
  {
   "cell_type": "markdown",
   "id": "d82234e5",
   "metadata": {},
   "source": [
    "# Conclusiones\n",
    "\n",
    "La aplicación de PCA fue relevante para este caso de estudio, tanto así que obtuvimos una varianza explicativa de alrededor del 80% con aproximadamente 5 componentes y alrededor del 85% utilizando 6 componentes. De manera explorativa, se desarrollaron tres modelos de regresión logística: uno utilizando cinco componentes principales, otro utilizando seis componentes principales y el tercero utilizando todas las variables sin aplicar PCA. Evaluamos y comparamos las ventajas y desventajas de utilizar PCA y de no utilizarlo.\n",
    "\n",
    "La implementación de la regresión logística dio como resultado que el uso de solo cinco componentes principales fue poco preciso, ya que tenía una diferencia de precisión del 7% en comparación con el 80% obtenido al utilizar seis componentes principales. Sin embargo, aún siendo significativamente inferiores en un 10% en comparación con el uso de todas las variables sin aplicar PCA, se obtuvo un 90%. Esto significa que, si se dispone de la capacidad de cómputo necesaria, se podría optar por no utilizar PCA. Por otro lado, si se busca obtener un algoritmo de menor costo computacional pero menos preciso, se tiene la opción de utilizar las seis componentes principales del conjunto de datos."
   ]
  }
 ],
 "metadata": {
  "kernelspec": {
   "display_name": "Python 3 (ipykernel)",
   "language": "python",
   "name": "python3"
  },
  "language_info": {
   "codemirror_mode": {
    "name": "ipython",
    "version": 3
   },
   "file_extension": ".py",
   "mimetype": "text/x-python",
   "name": "python",
   "nbconvert_exporter": "python",
   "pygments_lexer": "ipython3",
   "version": "3.11.4"
  }
 },
 "nbformat": 4,
 "nbformat_minor": 5
}
